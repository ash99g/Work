{
 "cells": [
  {
   "cell_type": "code",
   "execution_count": null,
   "id": "d51c8a35-101f-456c-b032-2c5e40ce866f",
   "metadata": {},
   "outputs": [],
   "source": [
    "# Q1.What is multithreading in python? Why is it used? Name the module used to handle threads in python.\n",
    "# Ans. \n",
    "     '''Multithreading refers to concurrently executing multiple threads by rapidly switching the \n",
    "        control of the CPU between threads (called context switching). The Python Global Interpreter \n",
    "        Lock limits one thread to run at a time even if the machine contains multiple processors.'''\n",
    "    \n",
    "    ''' Multithreading allows the programmer to divide application tasks into sub-tasks \n",
    "        and simultaneously run them in a program. \n",
    "        It allows threads to communicate and share resources such as files, data, \n",
    "        and memory to the same processor.'''\n",
    "\n",
    "     '''threading module is used for creating, controlling and managing threads in python.'''"
   ]
  },
  {
   "cell_type": "code",
   "execution_count": null,
   "id": "5d0abd61-0590-4a88-b145-025b0ba0814f",
   "metadata": {},
   "outputs": [],
   "source": [
    "# Q2. Why threading module used? Write the use of the following functions.\n",
    "# 1.activeCount()\n",
    "# 2.currentThread()\n",
    "# 3.enumerate()\n",
    "\n",
    "# Ans.The threading module provided with Python includes a simple-to-implement locking mechanism that allows you to synchronize threads.\n",
    "\n",
    "# 1.threading.activeCount() − Returns the number of thread objects that are active. \n",
    "# 2.threading.currentThread() − Returns the number of thread objects in the caller's thread control. \n",
    "# 3.threading.enumerate() − Returns a list of all thread objects that are currently active."
   ]
  },
  {
   "cell_type": "code",
   "execution_count": null,
   "id": "b148c962-7e1e-4805-8577-2bd4b775582d",
   "metadata": {},
   "outputs": [],
   "source": [
    "# Q3.Explain the following functions.\n",
    "# 1.run()\n",
    "# 2.start()\n",
    "# 3.join()\n",
    "# 4.isAlive()\n",
    "\n",
    "# Ans.\n",
    "# 1.The . run() method executes any target function belonging to a given thread object that is now active.\n",
    "\n",
    "# 2.Thread.start() method is an inbuilt method of the Thread class of the threading module in Python. \n",
    "#   It is used to start a thread's activity. This method calls the run() method internally which then executes the target method. \n",
    "#   This method must be called at most one time for one thread.\n",
    "\n",
    "# 3.Join is a synchronization method that blocks the calling thread (that is, the thread that calls the method) \n",
    "#   until the thread whose Join method is called has completed. Use this method to ensure that a thread has been terminated. \n",
    "#   The caller will block indefinitely if the thread does not terminate.\n",
    "\n",
    "# 4.It is used to check if a thread is alive or not. Alive refers to a thread that has begun but not been terminated yet. \n",
    "#   When the run method is called, the thread operates for a specific period of time after which it stops executing."
   ]
  },
  {
   "cell_type": "code",
   "execution_count": null,
   "id": "162d9f03-e357-452f-bac1-edbc9279a9ff",
   "metadata": {},
   "outputs": [],
   "source": [
    "# Q4. Write a python program to create two threads. Thread one must print the list of squares and thread two must print the list of cubes."
   ]
  },
  {
   "cell_type": "code",
   "execution_count": 1,
   "id": "ecd5fab4-6b22-42f7-918e-55bc7f0bbb03",
   "metadata": {},
   "outputs": [],
   "source": [
    "import threading"
   ]
  },
  {
   "cell_type": "code",
   "execution_count": 2,
   "id": "43f0127e-1f1a-43f7-bafa-513aa3cbccbe",
   "metadata": {},
   "outputs": [],
   "source": [
    "import time"
   ]
  },
  {
   "cell_type": "code",
   "execution_count": 84,
   "id": "97431a14-59ef-42d3-b5d3-c714ce269eb1",
   "metadata": {},
   "outputs": [],
   "source": [
    "def square(a):\n",
    "    a= range(15)\n",
    "    for i in a :\n",
    "        print(i**2,\"square %a  printing %a %s\" %(a,i,time.ctime()))\n",
    "        time.sleep(1)"
   ]
  },
  {
   "cell_type": "code",
   "execution_count": 85,
   "id": "494925c1-7a2c-4102-9472-388a538cee87",
   "metadata": {},
   "outputs": [],
   "source": [
    "thread = [threading.Thread(target = square , args = (i,)) for i in range(1)]"
   ]
  },
  {
   "cell_type": "code",
   "execution_count": 86,
   "id": "cac4e890-d36d-48ca-9daf-5118bfcaf630",
   "metadata": {},
   "outputs": [
    {
     "name": "stdout",
     "output_type": "stream",
     "text": [
      "0 square range(0, 15)  printing 0 Fri Feb 17 06:53:58 2023\n",
      "1 square range(0, 15)  printing 1 Fri Feb 17 06:53:59 2023\n",
      "4 square range(0, 15)  printing 2 Fri Feb 17 06:54:00 2023\n",
      "9 square range(0, 15)  printing 3 Fri Feb 17 06:54:01 2023\n",
      "16 square range(0, 15)  printing 4 Fri Feb 17 06:54:02 2023\n",
      "25 square range(0, 15)  printing 5 Fri Feb 17 06:54:03 2023\n",
      "36 square range(0, 15)  printing 6 Fri Feb 17 06:54:04 2023\n",
      "49 square range(0, 15)  printing 7 Fri Feb 17 06:54:05 2023\n",
      "64 square range(0, 15)  printing 8 Fri Feb 17 06:54:06 2023\n",
      "81 square range(0, 15)  printing 9 Fri Feb 17 06:54:07 2023\n",
      "100 square range(0, 15)  printing 10 Fri Feb 17 06:54:08 2023\n",
      "121 square range(0, 15)  printing 11 Fri Feb 17 06:54:09 2023\n",
      "144 square range(0, 15)  printing 12 Fri Feb 17 06:54:10 2023\n",
      "169 square range(0, 15)  printing 13 Fri Feb 17 06:54:11 2023\n",
      "196 square range(0, 15)  printing 14 Fri Feb 17 06:54:12 2023\n"
     ]
    }
   ],
   "source": [
    "for t in thread:\n",
    "    t.start()"
   ]
  },
  {
   "cell_type": "code",
   "execution_count": 3,
   "id": "06766411-92a7-41c2-a017-5d3244215d44",
   "metadata": {},
   "outputs": [],
   "source": [
    "import threading"
   ]
  },
  {
   "cell_type": "code",
   "execution_count": 4,
   "id": "11457645-41fc-4e69-945e-e52193f1677d",
   "metadata": {},
   "outputs": [],
   "source": [
    "import time"
   ]
  },
  {
   "cell_type": "code",
   "execution_count": 5,
   "id": "5aa16b26-51ac-4d0e-b1c7-0a4d64f0f9d9",
   "metadata": {},
   "outputs": [],
   "source": [
    "def cube(a):\n",
    "    a= range(15)\n",
    "    for i in a :\n",
    "        print(i*i*i,\"cube %a  printing %a %s\" %(a,i,time.ctime()))\n",
    "        time.sleep(1)"
   ]
  },
  {
   "cell_type": "code",
   "execution_count": 6,
   "id": "4e2ba725-20a0-4a85-b13a-72011ecfe3e3",
   "metadata": {},
   "outputs": [],
   "source": [
    "thread1 = [threading.Thread(target = cube , args = (i,)) for i in range(1)]"
   ]
  },
  {
   "cell_type": "code",
   "execution_count": 91,
   "id": "2c34125a-f04d-48ff-becb-529ab82ff0ff",
   "metadata": {},
   "outputs": [
    {
     "name": "stdout",
     "output_type": "stream",
     "text": [
      "0 cube range(0, 15)  printing 0 Fri Feb 17 06:58:00 2023\n",
      "1 cube range(0, 15)  printing 1 Fri Feb 17 06:58:01 2023\n",
      "8 cube range(0, 15)  printing 2 Fri Feb 17 06:58:02 2023\n",
      "27 cube range(0, 15)  printing 3 Fri Feb 17 06:58:03 2023\n",
      "64 cube range(0, 15)  printing 4 Fri Feb 17 06:58:04 2023\n",
      "125 cube range(0, 15)  printing 5 Fri Feb 17 06:58:05 2023\n",
      "216 cube range(0, 15)  printing 6 Fri Feb 17 06:58:06 2023\n",
      "343 cube range(0, 15)  printing 7 Fri Feb 17 06:58:07 2023\n",
      "512 cube range(0, 15)  printing 8 Fri Feb 17 06:58:08 2023\n",
      "729 cube range(0, 15)  printing 9 Fri Feb 17 06:58:09 2023\n",
      "1000 cube range(0, 15)  printing 10 Fri Feb 17 06:58:10 2023\n",
      "1331 cube range(0, 15)  printing 11 Fri Feb 17 06:58:11 2023\n",
      "1728 cube range(0, 15)  printing 12 Fri Feb 17 06:58:12 2023\n",
      "2197 cube range(0, 15)  printing 13 Fri Feb 17 06:58:13 2023\n",
      "2744 cube range(0, 15)  printing 14 Fri Feb 17 06:58:14 2023\n"
     ]
    }
   ],
   "source": [
    "for t in thread1:\n",
    "    t.start()"
   ]
  },
  {
   "cell_type": "code",
   "execution_count": 21,
   "id": "d9be0c29-d841-404d-b4c0-d2053599c336",
   "metadata": {},
   "outputs": [],
   "source": [
    "# Q5.State advantages and disadvantages of multithreading.\n",
    "# Ans.\n",
    "\n",
    "#   advantages\n",
    "# 1.Enhanced performance by decreased development time\n",
    "# 2.Simplified and streamlined program coding\n",
    "# 3.Improvised GUI responsiveness\n",
    "# 4.Simultaneous and parallelized occurrence of tasks\n",
    "# 5.Better use of cache storage by utilization of resources\n",
    "# 6.Decreased cost of maintenance\n",
    "# 7.Better use of CPU resource\n",
    "\n",
    "#   disadvantages\n",
    "# 1.Complex debugging and testing processes\n",
    "# 2.Overhead switching of context\n",
    "# 3.Increased potential for deadlock occurrence\n",
    "# 4.difficulty level in writing a program\n",
    "# 5.Unpredictable results"
   ]
  },
  {
   "cell_type": "code",
   "execution_count": null,
   "id": "0db1c45e-4d1a-4f4d-aa92-7b02076ed235",
   "metadata": {},
   "outputs": [],
   "source": [
    "# Q6.Explain deadlocks and race conditions.\n",
    "# Ans.\n",
    "\n",
    "#   race conditions.\n",
    "''' A race condition occurs when two threads access a shared variable at the same time. \n",
    "    The first thread reads the variable, and the second thread reads the same value from the variable. \n",
    "    Then the first thread and second thread perform their operations on the value, \n",
    "     and they race to see which thread can write the value last to the shared variable.'''\n",
    "\n",
    "#   deadlocks\n",
    "'''A deadlock occurs when two threads each lock a different variable at the same time and then try to lock \n",
    "the variable that the other thread already locked. As a result, each thread stops executing and waits for the other \n",
    "thread to release the variable. \n",
    "Because each thread is holding the variable that the other thread wants, nothing occurs, and the threads remain deadlocked.'''"
   ]
  }
 ],
 "metadata": {
  "kernelspec": {
   "display_name": "Python 3 (ipykernel)",
   "language": "python",
   "name": "python3"
  },
  "language_info": {
   "codemirror_mode": {
    "name": "ipython",
    "version": 3
   },
   "file_extension": ".py",
   "mimetype": "text/x-python",
   "name": "python",
   "nbconvert_exporter": "python",
   "pygments_lexer": "ipython3",
   "version": "3.10.8"
  }
 },
 "nbformat": 4,
 "nbformat_minor": 5
}
