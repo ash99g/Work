{
 "cells": [
  {
   "cell_type": "code",
   "execution_count": null,
   "id": "0d5d9fbd-2130-49ac-a4b2-ff98127f95d9",
   "metadata": {},
   "outputs": [],
   "source": [
    "# Q1. What are the three measures of central tendency?\n",
    "# Ans.There are three main measures of central tendency: mode. median. mean."
   ]
  },
  {
   "cell_type": "code",
   "execution_count": null,
   "id": "98156eb3-82df-447b-a989-0cd1b3326b6d",
   "metadata": {},
   "outputs": [],
   "source": [
    "# Q2. What is the difference between the mean, median, and mode? How are they used to measure the central tendency of a dataset?\n",
    "# Ans.The difference between mean, median and mode are: \n",
    "#     Mean is the average value of the given observations. \n",
    "#     Median is the middle value of the given observations. \n",
    "#     Mode is the most repeated value in the given observation.\n",
    " \n",
    "#  To find the mean,You just add up all of the values and divide by the number of observations in your dataset. The calculation of the mean incorporates all values in the data.    \n",
    "\n",
    "#  To find the median,The median is the middle value in distribution when the values are arranged in ascending or descending order. The median divides the distribution in half (there are 50% of observations on either side of the median value).\n",
    "#  In a distribution with an odd number of observations, the median value is the middle value.    \n",
    "\n",
    "#  To find the mode, sort the values in your dataset by numeric values or by categories. Then identify the value that occurs most often."
   ]
  },
  {
   "cell_type": "code",
   "execution_count": 3,
   "id": "7db12064-19e6-4d67-ab0b-1c732e5285a0",
   "metadata": {},
   "outputs": [],
   "source": [
    "# Q3. Measure the three measures of central tendency for the given height data:\n",
    "# Ans.\n",
    "l= [178,177,176,177,178.2,178,175,179,180,175,178.9,176.2,177,172.5,178,176.5]\n",
    "    \n",
    "import numpy as np   \n",
    "import statistics as stat"
   ]
  },
  {
   "cell_type": "code",
   "execution_count": 4,
   "id": "b9f10a81-0801-4f01-94ed-e89a202f9ed1",
   "metadata": {},
   "outputs": [
    {
     "data": {
      "text/plain": [
       "177.01875"
      ]
     },
     "execution_count": 4,
     "metadata": {},
     "output_type": "execute_result"
    }
   ],
   "source": [
    "np.mean(l)"
   ]
  },
  {
   "cell_type": "code",
   "execution_count": 5,
   "id": "c34c3f4c-01c2-471a-ad49-db41797e378b",
   "metadata": {},
   "outputs": [
    {
     "data": {
      "text/plain": [
       "177.0"
      ]
     },
     "execution_count": 5,
     "metadata": {},
     "output_type": "execute_result"
    }
   ],
   "source": [
    "np.median(l)"
   ]
  },
  {
   "cell_type": "code",
   "execution_count": 8,
   "id": "a1ce305d-9a70-448f-ad0f-25a258be5f62",
   "metadata": {},
   "outputs": [
    {
     "name": "stdout",
     "output_type": "stream",
     "text": [
      "178.0\n"
     ]
    }
   ],
   "source": [
    "array_mode = np.array(l)\n",
    "print(stat.mode(array_mode))"
   ]
  },
  {
   "cell_type": "code",
   "execution_count": 11,
   "id": "bb03fd8c-77cc-4d93-ab5f-9e0547013620",
   "metadata": {},
   "outputs": [
    {
     "data": {
      "text/plain": [
       "1.7885814036548633"
      ]
     },
     "execution_count": 11,
     "metadata": {},
     "output_type": "execute_result"
    }
   ],
   "source": [
    "# Q4. Find the standard deviation for the given data:\n",
    "# Ans.\n",
    "l=[178,177,176,177,178.2,178,175,179,180,175,178.9,176.2,177,172.5,178,176.5]\n",
    "\n",
    "np.std(l)"
   ]
  },
  {
   "cell_type": "code",
   "execution_count": 1,
   "id": "65c0906d-cc4a-461f-b134-047ece990425",
   "metadata": {},
   "outputs": [],
   "source": [
    "# Q5. How are measures of dispersion such as range, variance, and standard deviation used to describe the spread of a dataset? Provide an example.\n",
    "# Ans.1.Range: It is simply the difference between the maximum value and the minimum value given in a data set. \n",
    "#       Example: 1, 3,5, 6, 7 => Range = 7 -1= 6\n",
    "#     2.Variance: Deduct the mean from each data in the set, square each of them and add each square and finally divide them by the total no of values in the data set to get the variance. \n",
    "#       Example: Variance (σ2) = ∑(X−μ)2/N  \n",
    "#     3.Standard Deviation: The square root of the variance is known as the standard deviation . \n",
    "#       Example: S.D. = √σ "
   ]
  },
  {
   "cell_type": "code",
   "execution_count": null,
   "id": "a52df215-8a22-4b92-953d-f712ffae8efc",
   "metadata": {},
   "outputs": [],
   "source": [
    "# Q6. What is a Venn diagram?\n",
    "# Ans.A Venn diagram uses overlapping circles or other shapes to illustrate the logical relationships between two or more sets of items."
   ]
  },
  {
   "cell_type": "code",
   "execution_count": null,
   "id": "84996cea-dc8a-4bb3-a26d-b9a747eac7b2",
   "metadata": {},
   "outputs": [],
   "source": [
    "# Q7. For the two given sets A = (2,3,4,5,6,7) & B = (0,2,6,8,10). Find:\n",
    "#     (i) A U B\n",
    "#    (ii) A ∩ B\n",
    "\n",
    "# Ans.(i) (0,2,3,4,5,6,7,8,10)\n",
    "#     (ii) (2,6)"
   ]
  },
  {
   "cell_type": "code",
   "execution_count": null,
   "id": "92a8bd72-00e5-4237-9845-08934da646c8",
   "metadata": {},
   "outputs": [],
   "source": [
    "# Q8. What do you understand about skewness in data?\n",
    "# Ans. Skewness is a measurement of the distortion of symmetrical distribution or asymmetry in a data set. Skewness is demonstrated on a bell curve when data points are not distributed symmetrically to the left and right sides of the median on a bell curve."
   ]
  },
  {
   "cell_type": "code",
   "execution_count": null,
   "id": "407f7242-c369-47c6-b58f-13f0a30319bc",
   "metadata": {},
   "outputs": [],
   "source": [
    "# Q9. If a data is right skewed then what will be the position of median with respect to mean?\n",
    "# Ans.When the distribution is skewed to the right, the mean is often greater than the median."
   ]
  },
  {
   "cell_type": "code",
   "execution_count": 9,
   "id": "9c9e4da5-1350-430d-b032-cd71cfe10c2b",
   "metadata": {},
   "outputs": [],
   "source": [
    "# Q10. Explain the difference between covariance and correlation. How are these measures used in statistical analysis?\n",
    "# Ans.1.Covariance is an indicator of the extent to which 2 random variables are dependent on each other. A higher number denotes higher dependency.\n",
    "#       The value of covariance lies in the range of -∞ and +∞.\n",
    "#     2.Correlation is a statistical measure that indicates how strongly two variables are related.Correlation is limited to values between the range -1 and +1.\n",
    "\n",
    "#   Used\n",
    "#   Covariance measures the direction of the relationship between two variables. A positive covariance means that both variables tend to be high or low at the same time.\n",
    "#   A negative covariance means that when one variable is high, the other tends to be low.\n",
    "\n",
    "#   we use correlation to denote association between two quantitative variables. We also assume that the association is linear, \n",
    "#   that one variable increases or decreases a fixed amount for a unit increase or decrease in the other."
   ]
  },
  {
   "cell_type": "code",
   "execution_count": 11,
   "id": "8ca2053e-1d4d-45d6-bd73-457c14e6bb62",
   "metadata": {},
   "outputs": [
    {
     "name": "stdout",
     "output_type": "stream",
     "text": [
      "Mean is : 4.428571428571429\n"
     ]
    }
   ],
   "source": [
    "# Q11. What is the formula for calculating the sample mean? Provide an example calculation for a dataset.\n",
    "# Ans.The formula used for the sample mean evaluation is: x̄ =∑xi /n.\n",
    "\n",
    "import statistics\n",
    " \n",
    "data1 = [1, 3, 4, 5, 7, 9, 2] \n",
    "x = statistics.mean(data1)\n",
    "print(\"Mean is :\", x)"
   ]
  },
  {
   "cell_type": "code",
   "execution_count": null,
   "id": "38695939-ae00-480c-b800-45acba0b8f4e",
   "metadata": {},
   "outputs": [],
   "source": [
    "# Q12. For a normal distribution data what is the relationship between its measure of central tendency?\n",
    "# Ans.Any normal distribution has a graph that is perfectly symmetric about a vertical line through its peak. \n",
    "#     Therefore, all measures of central tendency (most commonly, the mean, median, and mode) give the same answer: the x -value of the peak."
   ]
  },
  {
   "cell_type": "code",
   "execution_count": null,
   "id": "76521242-eeb3-4b10-9b25-32547a7924e5",
   "metadata": {},
   "outputs": [],
   "source": [
    "# Q13. How is covariance different from correlation?\n",
    "# Ans. Covariance and correlation are two terms that are opposed and are both used in statistics and regression analysis. \n",
    "#      Covariance shows you how the two variables differ, whereas correlation shows you how the two variables are related."
   ]
  },
  {
   "cell_type": "code",
   "execution_count": null,
   "id": "597552c5-3004-4f14-8e35-8139e7ba3e56",
   "metadata": {},
   "outputs": [],
   "source": [
    "# Q14. How do outliers affect measures of central tendency and dispersion? Provide an example.\n",
    "# Ans.Measures of central tendency are mean, median and mode. Outliers affect the mean value of the data but have little effect on the median or mode of a given set of data.\n",
    "#     Outliers Measures of central tendency and dispersion can give misleading impressions of a data set if the set contains one or more outliers. An outlier is a value that is much greater than or much less than most of the other values in a data set.\n",
    "\n",
    "#   Examples\n",
    "#   Consider a small dataset having 5 values. The values in ascending order are 10,13,13,17,100.\n",
    "#   In the above example, the mean will be 153/6 = 30.6\n",
    "#   The median will be 13\n",
    "#   The mode will be 13"
   ]
  }
 ],
 "metadata": {
  "kernelspec": {
   "display_name": "Python 3 (ipykernel)",
   "language": "python",
   "name": "python3"
  },
  "language_info": {
   "codemirror_mode": {
    "name": "ipython",
    "version": 3
   },
   "file_extension": ".py",
   "mimetype": "text/x-python",
   "name": "python",
   "nbconvert_exporter": "python",
   "pygments_lexer": "ipython3",
   "version": "3.10.8"
  }
 },
 "nbformat": 4,
 "nbformat_minor": 5
}
