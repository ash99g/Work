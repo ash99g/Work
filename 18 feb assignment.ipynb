{
 "cells": [
  {
   "cell_type": "code",
   "execution_count": 1,
   "id": "7dd49dcd-6268-46bb-8629-af043b30253f",
   "metadata": {},
   "outputs": [],
   "source": [
    "# Q1. What is an API? Give an example, where an API is used in real life."
   ]
  },
  {
   "cell_type": "code",
   "execution_count": null,
   "id": "27f2708d-cca7-43d4-9715-7d83cce246d0",
   "metadata": {},
   "outputs": [],
   "source": [
    "#Ans.1.An API, or application programming interface, is a set of defined rules that enable different applications to communicate with each other.\n",
    "\n",
    "#    2.Sharing flight information between airlines and travel sites. Using Google Maps in a rideshare app. Building chatbots in a messaging service.\n",
    "\n",
    "#    3.APIs are all around us. Every time you use a rideshare app, send a mobile payment, or change the thermostat temperature from your phone, you're using an API."
   ]
  },
  {
   "cell_type": "code",
   "execution_count": null,
   "id": "d8164ef3-9a61-40b9-9f31-5f68d7e4e425",
   "metadata": {},
   "outputs": [],
   "source": [
    "# Q2. Give advantages and disadvantages of using API."
   ]
  },
  {
   "cell_type": "code",
   "execution_count": null,
   "id": "bc0d825f-95f7-4fef-9bf0-c8fa5dda9fe4",
   "metadata": {},
   "outputs": [],
   "source": [
    "# Ans.   Advantages\n",
    "#      1.Increased Visibility and Traffic\n",
    "#      2.Seamless Integration  \n",
    "#      3.Increased Efficiency     \n",
    "#      4.Easier Maintenance    \n",
    "#      5.Reduced Costs     \n",
    "#      6.Improved Customer Experience \n",
    "\n",
    "#        Disadvantages\n",
    "#      1.Increased Complexity     \n",
    "#      2.Limited Functionality     \n",
    "#      3.Dependency on Third Party Services     \n",
    "#      4.Security and Privacy Risks         "
   ]
  },
  {
   "cell_type": "code",
   "execution_count": null,
   "id": "cd6621b4-6892-4042-9d3f-5dfe397156d9",
   "metadata": {},
   "outputs": [],
   "source": [
    "# Q3. What is a Web API? Differentiate between API and Web API."
   ]
  },
  {
   "cell_type": "code",
   "execution_count": null,
   "id": "13d452d3-a897-4fcc-b322-4a31486c6a3d",
   "metadata": {},
   "outputs": [],
   "source": [
    "# Ans. 1.A Web API is an application programming interface for the Web. A Browser API can extend the functionality of a web browser.\n",
    "#        A Server API can extend the functionality of a web server.\n",
    "\n",
    "#     2.Both APIs and web services are technologies that enable the transfer of data between separate software applications. \n",
    "#       API is an interface that exposes an application's data to outside software, whereas web applications are one type of API with stricter requirements.\n",
    "#       The only difference is that a Web service facilitates interaction between two machines over a network. \n",
    "#       An API acts as an interface between two different applications so that they can communicate with each other."
   ]
  },
  {
   "cell_type": "code",
   "execution_count": 3,
   "id": "e0162f4a-070b-418a-9f77-eb6a20984595",
   "metadata": {},
   "outputs": [],
   "source": [
    "# Q4. Explain REST and SOAP Architecture. Mention shortcomings of SOAP."
   ]
  },
  {
   "cell_type": "code",
   "execution_count": null,
   "id": "608e279f-f1b9-4bff-aca6-6bc178a1cc58",
   "metadata": {},
   "outputs": [],
   "source": [
    "# Ans. 1.REST was designed specifically for working with components such as media components, files, or even objects on a particular hardware device. Any web service that is defined on the principles of REST can be called a RestFul web service. A Restful service would use the normal HTTP verbs of GET, POST, PUT and DELETE for working with the required components.\n",
    "#        REST stands for Representational State Transfer.\n",
    "\n",
    "#      2.SOAP is a protocol which was designed before REST and came into the picture. The main idea behind designing SOAP was to ensure that programs built on different platforms and programming languages could exchange data in an easy manner. \n",
    "#        SOAP stands for Simple Object Access Protocol.\n",
    "\n",
    "#    Shortcomings of SOAP.\n",
    "#    As SOAP can only transfer messages as XML files, your SOAP API will be less performant, as XML is a verbose format compared to JSON. \n",
    "#    API calls made to your server will need more bandwidth and it will take more time to process the request and transfer the response back to the client."
   ]
  },
  {
   "cell_type": "code",
   "execution_count": 2,
   "id": "bba9fcad-e47b-49e5-b247-f2057fb0e3ac",
   "metadata": {},
   "outputs": [],
   "source": [
    "# Q5. Differentiate between REST and SOAP."
   ]
  },
  {
   "cell_type": "code",
   "execution_count": null,
   "id": "bf03c1e9-0a36-427b-a3c7-4ee7d43f431f",
   "metadata": {},
   "outputs": [],
   "source": [
    "# Ans.1.SOAP stands for Simple Object Access Protocol whereas REST stands for Representational State Transfer.\n",
    "\n",
    "#     2.SOAP is a protocol whereas REST is an architectural pattern.\n",
    "\n",
    "#     3.SOAP uses service interfaces to expose its functionality to client applications while REST uses Uniform Service locators to access to the components on the hardware device.\n",
    "\n",
    "#     4.SOAP needs more bandwidth for its usage whereas REST doesn’t need much bandwidth.\n",
    "\n",
    "#     5.Comparing SOAP vs REST API, SOAP only works with XML formats whereas REST work with plain text, XML, HTML and JSON.\n",
    "\n",
    "#     6.SOAP cannot make use of REST whereas REST can make use of SOAP.\n"
   ]
  }
 ],
 "metadata": {
  "kernelspec": {
   "display_name": "Python 3 (ipykernel)",
   "language": "python",
   "name": "python3"
  },
  "language_info": {
   "codemirror_mode": {
    "name": "ipython",
    "version": 3
   },
   "file_extension": ".py",
   "mimetype": "text/x-python",
   "name": "python",
   "nbconvert_exporter": "python",
   "pygments_lexer": "ipython3",
   "version": "3.10.8"
  }
 },
 "nbformat": 4,
 "nbformat_minor": 5
}
