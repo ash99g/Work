{
 "cells": [
  {
   "cell_type": "code",
   "execution_count": null,
   "id": "5b5b5b08-3d92-44d4-bb58-774fe1a0667f",
   "metadata": {},
   "outputs": [],
   "source": [
    "# Q1. What is Statistics?\n",
    "# Ans.Statistics is the science concerned with developing and studying methods for collecting, analyzing, interpreting and presenting empirical data."
   ]
  },
  {
   "cell_type": "code",
   "execution_count": null,
   "id": "9e5131ed-291e-4641-b63e-eca07b841c19",
   "metadata": {},
   "outputs": [],
   "source": [
    "# Q2. Define the different types of statistics and give an example of when each type might be used.\n",
    "# Ans. Statistics have majorly categorised into two types:\n",
    "#      1.Descriptive statistics\n",
    "#      2.Inferential statistics\n",
    "\n",
    "# Descriptive statistics Example\n",
    "#   Suppose the scores of 100 students belonging to a specific country are available. The performance of these students needs to be examined. \n",
    "#   This data by itself will not yield any valuable results. \n",
    "#   However, by using descriptive statistics, the spread of the marks can be obtained thus, giving a clear idea regarding the performance of each student.\n",
    "\n",
    "# Inferential statistics Example\n",
    "#   Now suppose the scores of the students of an entire country need to be examined. \n",
    "#   Using a sample of, say 100 students, inferential statistics is used to make generalizations about the population."
   ]
  },
  {
   "cell_type": "code",
   "execution_count": null,
   "id": "fd998784-c3a6-41a8-8757-d9dff164fae7",
   "metadata": {},
   "outputs": [],
   "source": [
    "# Q3. What are the different types of data and how do they differ from each other? Provide an example of each type of data.\n",
    "# Ans.  1.Qualitative or Categorical Data\n",
    "#           a.Nominal data\n",
    "#           b.Ordinal data\n",
    "#       2.Quantitative or Numerical Data\n",
    "#           a.Discrete data\n",
    "#           b.Continuous data\n",
    "\n",
    "\n",
    "#  1.Qualitative or Categorical Data \n",
    "#    The categorical information involves categorical variables that describe the features such as a person’s gender, home town etc. \n",
    "#  a.Nominal data\n",
    "#    Nominal data is one of the types of qualitative information which helps to label the variables without providing the numerical value.\n",
    "#  b.Ordinal data\n",
    "#    Ordinal data/variable is a type of data that follows a natural order. The significant feature of the nominal data is that the difference between the data values is not determined.\n",
    "\n",
    "#  2.Quantitative or Numerical Data\n",
    "#    Quantitative data is also known as numerical data which represents the numerical value (i.e., how much, how often, how many). Numerical data gives information about the quantities of a specific thing.\n",
    "#  a.Discrete data\n",
    "#    Discrete data can take only discrete values. Discrete information contains only a finite number of possible values.\n",
    "#  b.Continuous data\n",
    "#    Continuous data is data that can be calculated. It has an infinite number of probable values that can be selected within a given specific range.\n",
    "\n",
    "\n",
    "#  Examples of nominal data are letters, symbols, words, gender etc.\n",
    "#  Examples of Ordinal data This variable is mostly found in surveys, finance, economics, questionnaires, and so on.\n",
    "#  Example of Discrete data: Number of students in the class.\n",
    "#  Example of Continuous data: Temperature range"
   ]
  },
  {
   "cell_type": "code",
   "execution_count": null,
   "id": "bdfa4d6a-d352-4efd-b3cf-8aee9fd6f014",
   "metadata": {},
   "outputs": [],
   "source": [
    "# Q4. Categorise the following datasets with respect to quantitative and qualitative data types:\n",
    "#    (i) Grading in exam: A+, A, B+, B, C+, C, D, E\n",
    "#    (ii) Colour of mangoes: yellow, green, orange, red\n",
    "#    (iii) Height data of a class: [178.9, 179, 179.5, 176, 177.2, 178.3, 175.8,...]\n",
    "#    (iv) Number of mangoes exported by a farm: [500, 600, 478, 672, ...]\n",
    "\n",
    "# Ans.(i) qualitative data\n",
    "#     (ii) qualitative data\n",
    "#     (iii) quantitative data\n",
    "#     (iv) quantitative data"
   ]
  },
  {
   "cell_type": "code",
   "execution_count": null,
   "id": "5be5ac7e-bf44-41b5-bd03-ce266eac6e28",
   "metadata": {},
   "outputs": [],
   "source": [
    "# Q5. Explain the concept of levels of measurement and give an example of a variable for each level.\n",
    "# Ans.Levels of measurement, also called scales of measurement, tell you how precisely variables are recorded. In scientific research, a variable is anything that can take on different values across your data set (e.g., height or test scores).\n",
    "\n",
    "#        Example\n",
    "#      1.Nominal level : Gender\n",
    "#      2.Ordinal level : Language ability (e.g., beginner, intermediate, fluent)\n",
    "#      3.Interval level: Test scores (e.g., IQ or exams)\n",
    "#      4.Ratio level   : Height,Age,Weight"
   ]
  },
  {
   "cell_type": "code",
   "execution_count": null,
   "id": "fb75eaf8-5032-4255-87f7-ada9d98dfcfe",
   "metadata": {},
   "outputs": [],
   "source": [
    "# Q6. Why is it important to understand the level of measurement when analyzing data? Provide an example to illustrate your answer.\n",
    "# Ans. It is important to understand the level of measurement of variables in research, because the level of measurement determines the type of statistical analysis that can be conducted, and\n",
    "#      therefore, the type of conclusions that can be drawn from the research.\n",
    "\n",
    "#    Nominal: the data can only be categorized.\n",
    "#    Ordinal: the data can be categorized and ranked.\n",
    "#    Interval: the data can be categorized and ranked, and evenly spaced.\n",
    "#    Ratio: the data can be categorized, ranked, evenly spaced and has a natural zero"
   ]
  },
  {
   "cell_type": "code",
   "execution_count": null,
   "id": "0daf202f-0931-420c-9a99-2a55381afbba",
   "metadata": {},
   "outputs": [],
   "source": [
    "# Q7. How nominal data type is different from ordinal data type.\n",
    "# Ans.Nominal data is classified without a natural order or rank, whereas ordinal data has a predetermined or natural order. \n",
    "#     On the other hand, numerical or quantitative data will always be a number that can be measured."
   ]
  },
  {
   "cell_type": "code",
   "execution_count": null,
   "id": "4c1ccdab-d442-4496-8198-64dcd96cde90",
   "metadata": {},
   "outputs": [],
   "source": [
    "# Q8. Which type of plot can be used to display data in terms of range?\n",
    "# Ans.Range plot"
   ]
  },
  {
   "cell_type": "code",
   "execution_count": null,
   "id": "50d60709-3b8a-4e7f-ae46-5784ed4258c3",
   "metadata": {},
   "outputs": [],
   "source": [
    "# Q9. Describe the difference between descriptive and inferential statistics. Give an example of each type of statistics and explain how they are used.\n",
    "# Ans. Descriptive Statistics\n",
    "#     1.It gives information about raw data which describes the data in some manner.\t\n",
    "#     2.It helps in organizing, analyzing, and to present data in a meaningful manner.\n",
    "#     3.It is used to describe a situation.\n",
    "#     4.It explains already known data and is limited to a sample or population having a small size.\t\n",
    "#     5.It can be achieved with the help of charts, graphs, tables, etc.\t\n",
    "\n",
    "#      Inferential statistics\n",
    "#     1.It makes inferences about the population using data drawn from the population.\n",
    "#     2.It allows us to compare data, and make hypotheses and predictions.\n",
    "#     3.It is used to explain the chance of occurrence of an event.\n",
    "#     4.It attempts to reach the conclusion about the population.\n",
    "#     5.It can be achieved by probability.\n",
    "\n",
    "#     Example: Descriptive statistics\n",
    "#      You collect data on the SAT scores of all 11th graders in a school for three years.\n",
    "#      You can use descriptive statistics to get a quick overview of the school’s scores in those years. You can then directly compare the mean SAT score with the mean scores of other schools.\n",
    "\n",
    "#     Example: Inferential statistics\n",
    "#      You randomly select a sample of 11th graders in your state and collect data on their SAT scores and other characteristics.\n",
    "#      You can use inferential statistics to make estimates and test hypotheses about the whole population of 11th graders in the state based on your sample data.\n",
    " \n",
    "#      How Used\n",
    "#     Inferential statistics helps to compare data, make hypotheses and predictions. \n",
    "#     Descriptive statistics explains already known data related to a particular sample or population of a small size."
   ]
  },
  {
   "cell_type": "code",
   "execution_count": 1,
   "id": "41c267ec-f35b-4b09-8ee1-c2c3773e8ae6",
   "metadata": {},
   "outputs": [],
   "source": [
    "# Q10. What are some common measures of central tendency and variability used in statistics? Explain how each measure can be used to describe a dataset.\n",
    "# Ans.Three measures of central tendency are the mode, the median and the mean.\n",
    "#     The most common measures of variability are the range, the interquartile range (IQR), variance, and standard deviation.\n",
    "\n",
    "import seaborn as sns"
   ]
  },
  {
   "cell_type": "code",
   "execution_count": 2,
   "id": "f7272bfe-7f65-4d9e-b055-b086c8a7a227",
   "metadata": {},
   "outputs": [],
   "source": [
    "df=sns.load_dataset('tips')"
   ]
  },
  {
   "cell_type": "code",
   "execution_count": 5,
   "id": "be9e67f7-e723-4b62-96bf-70d0e4317926",
   "metadata": {},
   "outputs": [
    {
     "name": "stderr",
     "output_type": "stream",
     "text": [
      "/tmp/ipykernel_70/3698961737.py:1: FutureWarning: The default value of numeric_only in DataFrame.mean is deprecated. In a future version, it will default to False. In addition, specifying 'numeric_only=None' is deprecated. Select only valid columns or specify the value of numeric_only to silence this warning.\n",
      "  df.mean()\n"
     ]
    },
    {
     "data": {
      "text/plain": [
       "total_bill    19.785943\n",
       "tip            2.998279\n",
       "size           2.569672\n",
       "dtype: float64"
      ]
     },
     "execution_count": 5,
     "metadata": {},
     "output_type": "execute_result"
    }
   ],
   "source": [
    "df.mean()"
   ]
  },
  {
   "cell_type": "code",
   "execution_count": 7,
   "id": "12385f89-2a16-4a25-a036-26c9c8fdfcc2",
   "metadata": {},
   "outputs": [
    {
     "name": "stderr",
     "output_type": "stream",
     "text": [
      "/tmp/ipykernel_70/530051474.py:1: FutureWarning: The default value of numeric_only in DataFrame.median is deprecated. In a future version, it will default to False. In addition, specifying 'numeric_only=None' is deprecated. Select only valid columns or specify the value of numeric_only to silence this warning.\n",
      "  df.median()\n"
     ]
    },
    {
     "data": {
      "text/plain": [
       "total_bill    17.795\n",
       "tip            2.900\n",
       "size           2.000\n",
       "dtype: float64"
      ]
     },
     "execution_count": 7,
     "metadata": {},
     "output_type": "execute_result"
    }
   ],
   "source": [
    "df.median()"
   ]
  },
  {
   "cell_type": "code",
   "execution_count": 11,
   "id": "d9c9a98f-4b6b-4777-9205-0c16d77d6d32",
   "metadata": {},
   "outputs": [
    {
     "data": {
      "text/html": [
       "<div>\n",
       "<style scoped>\n",
       "    .dataframe tbody tr th:only-of-type {\n",
       "        vertical-align: middle;\n",
       "    }\n",
       "\n",
       "    .dataframe tbody tr th {\n",
       "        vertical-align: top;\n",
       "    }\n",
       "\n",
       "    .dataframe thead th {\n",
       "        text-align: right;\n",
       "    }\n",
       "</style>\n",
       "<table border=\"1\" class=\"dataframe\">\n",
       "  <thead>\n",
       "    <tr style=\"text-align: right;\">\n",
       "      <th></th>\n",
       "      <th>total_bill</th>\n",
       "      <th>tip</th>\n",
       "      <th>sex</th>\n",
       "      <th>smoker</th>\n",
       "      <th>day</th>\n",
       "      <th>time</th>\n",
       "      <th>size</th>\n",
       "    </tr>\n",
       "  </thead>\n",
       "  <tbody>\n",
       "    <tr>\n",
       "      <th>0</th>\n",
       "      <td>13.42</td>\n",
       "      <td>2.0</td>\n",
       "      <td>Male</td>\n",
       "      <td>No</td>\n",
       "      <td>Sat</td>\n",
       "      <td>Dinner</td>\n",
       "      <td>2</td>\n",
       "    </tr>\n",
       "  </tbody>\n",
       "</table>\n",
       "</div>"
      ],
      "text/plain": [
       "   total_bill  tip   sex smoker  day    time  size\n",
       "0       13.42  2.0  Male     No  Sat  Dinner     2"
      ]
     },
     "execution_count": 11,
     "metadata": {},
     "output_type": "execute_result"
    }
   ],
   "source": [
    "df.mode()"
   ]
  },
  {
   "cell_type": "code",
   "execution_count": 12,
   "id": "a7ea70e4-4d8a-4cd1-abc9-b71ee6502b34",
   "metadata": {},
   "outputs": [
    {
     "name": "stderr",
     "output_type": "stream",
     "text": [
      "/tmp/ipykernel_70/1568254755.py:1: FutureWarning: The default value of numeric_only in DataFrame.var is deprecated. In a future version, it will default to False. In addition, specifying 'numeric_only=None' is deprecated. Select only valid columns or specify the value of numeric_only to silence this warning.\n",
      "  df.var()\n"
     ]
    },
    {
     "data": {
      "text/plain": [
       "total_bill    79.252939\n",
       "tip            1.914455\n",
       "size           0.904591\n",
       "dtype: float64"
      ]
     },
     "execution_count": 12,
     "metadata": {},
     "output_type": "execute_result"
    }
   ],
   "source": [
    "df.var()"
   ]
  },
  {
   "cell_type": "code",
   "execution_count": 13,
   "id": "64c27013-6548-475e-a3db-a07a7945ba3c",
   "metadata": {},
   "outputs": [
    {
     "name": "stderr",
     "output_type": "stream",
     "text": [
      "/tmp/ipykernel_70/3390915376.py:1: FutureWarning: The default value of numeric_only in DataFrame.std is deprecated. In a future version, it will default to False. In addition, specifying 'numeric_only=None' is deprecated. Select only valid columns or specify the value of numeric_only to silence this warning.\n",
      "  df.std()\n"
     ]
    },
    {
     "data": {
      "text/plain": [
       "total_bill    8.902412\n",
       "tip           1.383638\n",
       "size          0.951100\n",
       "dtype: float64"
      ]
     },
     "execution_count": 13,
     "metadata": {},
     "output_type": "execute_result"
    }
   ],
   "source": [
    "df.std()"
   ]
  },
  {
   "cell_type": "code",
   "execution_count": null,
   "id": "5cc24e6b-6664-4863-b508-dff0d6d915e0",
   "metadata": {},
   "outputs": [],
   "source": []
  }
 ],
 "metadata": {
  "kernelspec": {
   "display_name": "Python 3 (ipykernel)",
   "language": "python",
   "name": "python3"
  },
  "language_info": {
   "codemirror_mode": {
    "name": "ipython",
    "version": 3
   },
   "file_extension": ".py",
   "mimetype": "text/x-python",
   "name": "python",
   "nbconvert_exporter": "python",
   "pygments_lexer": "ipython3",
   "version": "3.10.8"
  }
 },
 "nbformat": 4,
 "nbformat_minor": 5
}
