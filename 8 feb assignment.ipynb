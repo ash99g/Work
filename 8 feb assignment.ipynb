{
 "cells": [
  {
   "cell_type": "code",
   "execution_count": 25,
   "id": "d2dd0fc0-1752-4184-bdf1-d82da8c7acfa",
   "metadata": {},
   "outputs": [],
   "source": [
    "# Q1. What is Abstraction in OOps? Explain with an example.\n",
    "\n",
    "# Ans.Abstraction is the concept of object-oriented programming that “shows” only essential attributes and “hides” unnecessary information. \n",
    "#     The main purpose of abstraction is hiding the unnecessary details from the users. \n",
    "#     Abstraction is selecting data from a larger pool to show only relevant details of the object to the user.\n",
    "#     It helps in reducing programming complexity and efforts. It is one of the most important concepts of OOPs.\n",
    "\n",
    "#  Example\n",
    "#  You can start a car by turning the key or pressing the start button. You don't need to know how the engine is getting started, what all components your car has. \n",
    "#  The car internal implementation and complex logic is completely hidden from the user."
   ]
  },
  {
   "cell_type": "code",
   "execution_count": null,
   "id": "365384bd-a143-4f31-92f7-c52d7bac8cfb",
   "metadata": {},
   "outputs": [],
   "source": [
    "# Q2. Differentiate between Abstraction and Encapsulation. Explain with an example.\n",
    "\n",
    "# Ans. 1.Abstraction is a design level process and it is used to reduce the complexity at the designing stage of a project. Abstraction is used to hide the internal functionality of the function from the users. The users only interact with the basic implementation of the function, but inner working is hidden\n",
    "\n",
    "#      2.Encapsulation is an implementation level process, and it is used to provide privacy and maintain control over the transparency of data at the implementation stage of a project."
   ]
  },
  {
   "cell_type": "code",
   "execution_count": 26,
   "id": "ae7b420e-6846-457f-a087-183edd59747b",
   "metadata": {},
   "outputs": [],
   "source": [
    "class Person:\n",
    "    def __init__(self):\n",
    "        self.name = \"Ashish\"\n",
    "\n",
    "    def bio(self):\n",
    "        self.addr = \"Delhi\"\n",
    "        self.taxInfo = \"HUAPK29971\"\n",
    "        self.contact = \"01-777-523-342\"\n",
    "        print(self.addr, self.taxInfo, self.contact)\n",
    "\n",
    "    def interest(self):\n",
    "        self.favFood = \"Indian food\"\n",
    "        self.hobbies = \"Python Programming\"\n",
    "        self.bloodGroup = \"A+\"\n",
    "        print(self.favFood, self.hobbies, self.bloodGroup)\n",
    "\n"
   ]
  },
  {
   "cell_type": "code",
   "execution_count": 23,
   "id": "27cbf94c-68e4-4e69-b59c-53a832d6d78a",
   "metadata": {},
   "outputs": [],
   "source": [
    "obj = Person()"
   ]
  },
  {
   "cell_type": "code",
   "execution_count": 24,
   "id": "43c10560-01f1-4253-afc0-c9d0794ecaa9",
   "metadata": {},
   "outputs": [
    {
     "name": "stdout",
     "output_type": "stream",
     "text": [
      "Ashish\n",
      "Delhi HUAPK29971 01-777-523-342\n",
      "Indian food Python Programming A+\n"
     ]
    }
   ],
   "source": [
    "print(obj.name)\n",
    "obj.bio()\n",
    "obj.interest()"
   ]
  },
  {
   "cell_type": "code",
   "execution_count": 1,
   "id": "ac75b2e6-ea87-4788-bbd4-a638eb72d10e",
   "metadata": {},
   "outputs": [],
   "source": [
    "# Q3. What is abc module in python? Why is it used?\n",
    "\n",
    "# Ans.1.The 'abc' module in Python library provides the infrastructure for defining custom abstract base classes. \n",
    "#    'abc' works by marking methods of the base class as abstract. \n",
    "\n",
    "#     2.abstract base classes provide a blueprint for concrete classes. They don't contain implementation. \n",
    "#      Instead, they provide an interface and make sure that derived concrete classes are properly implemented. Abstract base classes cannot be instantiated."
   ]
  },
  {
   "cell_type": "code",
   "execution_count": 3,
   "id": "529308e6-61c2-4054-80b8-33f54e350b50",
   "metadata": {},
   "outputs": [],
   "source": [
    "# Q4. How can we achieve data abstraction?\n",
    "\n",
    "# Ans.Data abstraction is a method where essential elements are displayed to the user and trivial elements are kept hidden. \n",
    "#     Abstraction is achieved by using the abstract keyword for classes and interfaces. \n",
    "#     In abstract classes, we can have abstract methods as well as concrete methods."
   ]
  },
  {
   "cell_type": "code",
   "execution_count": 4,
   "id": "d9b792f4-6a36-4f8c-be0b-0d8f22359a35",
   "metadata": {},
   "outputs": [],
   "source": [
    "# Q5. Can we create an instance of an abstract class? Explain your answer.\n",
    "\n",
    "# Ans.Abstract classes cannot be instantiated, but they can be subclassed. When an abstract class is subclassed, the subclass usually provides implementations for all of the abstract methods in its parent class. \n",
    "#    However, if it does not, then the subclass must also be declared abstract ."
   ]
  },
  {
   "cell_type": "code",
   "execution_count": null,
   "id": "6757c30b-a9de-4111-b814-154c649cca18",
   "metadata": {},
   "outputs": [],
   "source": []
  }
 ],
 "metadata": {
  "kernelspec": {
   "display_name": "Python 3 (ipykernel)",
   "language": "python",
   "name": "python3"
  },
  "language_info": {
   "codemirror_mode": {
    "name": "ipython",
    "version": 3
   },
   "file_extension": ".py",
   "mimetype": "text/x-python",
   "name": "python",
   "nbconvert_exporter": "python",
   "pygments_lexer": "ipython3",
   "version": "3.10.8"
  }
 },
 "nbformat": 4,
 "nbformat_minor": 5
}
