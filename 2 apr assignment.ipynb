{
 "cells": [
  {
   "cell_type": "raw",
   "id": "ae24ab84-6892-4c51-9793-95d28e2df5b9",
   "metadata": {},
   "source": [
    "Q1. What is the purpose of grid search cv in machine learning, and how does it work?\n",
    "Ans.GridSearchCV is a technique for finding the optimal parameter values from a given set of parameters in a grid. It's essentially a cross-       validation technique. The model as well as the parameters must be entered. After extracting the best parameter values, predictions are         made.\n",
    "    Cross validation works by splitting our dataset into random groups, holding one group out as the test, and training the model on the           remaining groups."
   ]
  },
  {
   "cell_type": "raw",
   "id": "af74e44b-70ca-42dc-84aa-b3581440750f",
   "metadata": {},
   "source": [
    "Q2. Describe the difference between grid search cv and randomize search cv, and when might you choose\n",
    "    one over the other?\n",
    "Ans.In Grid Search, we try every combination of a preset list of values of the hyper-parameters and choose the best combination based on the       cross-validation score.\n",
    "\n",
    "    Random search tries random combinations of a range of values (we have to define the number iterations). It is good at testing a wide range     of values and normally it reaches a very good combination very fast, but the problem that it doesn’t guarantee to give the best parameter       combination.\n",
    "    On the other hand, Grid search will give the best combination but it can take a lot of time.\n",
    "    \n",
    "    Random search is faster than grid search and should always be used when you have a large parameter space. It is also a good idea to use         both random search and grid search to get the best possible results."
   ]
  },
  {
   "cell_type": "raw",
   "id": "5d1c9c6e-ffef-4d7c-92fd-8637f0cf2497",
   "metadata": {},
   "source": [
    "Q3. What is data leakage, and why is it a problem in machine learning? Provide an example.\n",
    "Ans.Data leakage is one of the major problems in machine learning which occurs when the data that we are using to train an ML algorithm has the     information the model is trying to predict. It is a situation that causes unpredictable and bad prediction outcomes after model deployment.\n",
    "    \n",
    "    Data leakage problem generally occurs when training data already has information about what the model is trying to predict. Although this       scenario looks like cheating but in technical words, we call it leakage, as it is an accidental scenario.\n",
    "    \n",
    "    The most obvious and easy-to-understand cause of data leakage is to include the target variable as a feature. What happens is that after       including the target variable as a feature, our purpose of prediction got destroyed. This is likely to be done by mistake but while             modelling any ML model, you have to make sure that the target variable is differentiated from the set of features."
   ]
  },
  {
   "cell_type": "raw",
   "id": "b133c8c3-82f3-4262-ba3b-33705c90b4f9",
   "metadata": {},
   "source": [
    "Q4. How can you prevent data leakage when building a machine learning model?\n",
    "Ans.One of the best ways to get rid of data leakage is to perform k-fold cross validation where the overall data is divided into k parts. After     dividing into k parts, we use each part as the cross-validation data and the remaining as training data."
   ]
  },
  {
   "cell_type": "raw",
   "id": "0d86afc6-7aab-490c-8682-8cb3694d1d88",
   "metadata": {},
   "source": [
    "Q5. What is a confusion matrix, and what does it tell you about the performance of a classification model?\n",
    "Ans.A confusion matrix is a table that is used to define the performance of a classification algorithm. A confusion matrix visualizes and           summarizes the performance of a classification algorithm. \n",
    "    You can also use the information in it to calculate measures that can help you determine the usefulness of the model. Rows represent           predicted classifications, while columns represent the true classes from the data."
   ]
  },
  {
   "cell_type": "raw",
   "id": "abefc353-e7b8-4a50-bd2f-e95790fce0c6",
   "metadata": {},
   "source": [
    "Q6. Explain the difference between precision and recall in the context of a confusion matrix.\n",
    "Ans.Precision (also called positive predictive value) is the fraction of relevant instances among the retrieved instances.The number of             accurately predicted positive values is explained by precision.\n",
    "\n",
    "    Recall (also known as sensitivity) is the fraction of relevant instances that were retrieved. Both precision and recall are therefore based     on relevance.The number of actual positive values that the model correctly predicted is referred to as recall. "
   ]
  },
  {
   "cell_type": "raw",
   "id": "b6e5a6cb-147a-41e8-915f-175faee65644",
   "metadata": {},
   "source": [
    "Q7. How can you interpret a confusion matrix to determine which types of errors your model is making?\n",
    "Ans.A Confusion matrix is an N x N matrix used for evaluating the performance of a classification model, where N is the total number of target     classes. The matrix compares the actual target values with those predicted by the machine learning model.This gives us a holistic view of       how well our classification model is performing and what kinds of errors it is making."
   ]
  },
  {
   "cell_type": "raw",
   "id": "ba6e6fae-5bc0-492b-b1d7-c7b6a9750f83",
   "metadata": {},
   "source": [
    "Q8. What are some common metrics that can be derived from a confusion matrix, and how are they calculated?\n",
    "Ans.Confusion matrices can be used to calculate performance metrics for classification models. Of the many performance metrics used, the most       common are accuracy, precision, recall, and F1 score.\n",
    "    1.To calculate accuracy, use the following formula: (TP+TN)/(TP+TN+FP+FN). \n",
    "    2.Precision = TP / (TP+FP)\n",
    "    3.Recall = TP / (TP+FN)\n",
    "    4.The F1 Score is the 2*((precision*recall)/(precision+recall))."
   ]
  },
  {
   "cell_type": "raw",
   "id": "27177097-3a97-4565-9a02-5cb847f12656",
   "metadata": {},
   "source": [
    "Q9. What is the relationship between the accuracy of a model and the values in its confusion matrix?\n",
    "Ans.Here are some of the most common performance measures you can use from the confusion matrix. Accuracy: It gives you the overall accuracy of     the model, meaning the fraction of the total samples that were correctly classified by the classifier. To calculate accuracy, use the           following formula: (TP+TN)/(TP+TN+FP+FN)."
   ]
  },
  {
   "cell_type": "raw",
   "id": "f850187e-33b2-41f2-80cc-25ee31b9e2e4",
   "metadata": {},
   "source": [
    "Q10. How can you use a confusion matrix to identify potential biases or limitations in your machine learning model?\n",
    "Ans.It evaluates the performance of the classification models, when they make predictions on test data, and tells how good our classification       model is.\n",
    "    It not only tells the error made by the classifiers but also the type of errors such as it is either type-I or type-II error.\n",
    "    With the help of the confusion matrix, we can calculate the different parameters for the model, such as accuracy, precision, etc.\n",
    "    \n",
    "    Confusion matrices reveal when a model consistently confuses two classes, making it simple to determine how reliable a model's results are     likely to be. The effectiveness of a classification model, enabling business users to identify which data their model might be unable to       accurately categorize. When applying insights or predictions from the model to real-world business choices, this knowledge is important."
   ]
  }
 ],
 "metadata": {
  "kernelspec": {
   "display_name": "Python 3 (ipykernel)",
   "language": "python",
   "name": "python3"
  },
  "language_info": {
   "codemirror_mode": {
    "name": "ipython",
    "version": 3
   },
   "file_extension": ".py",
   "mimetype": "text/x-python",
   "name": "python",
   "nbconvert_exporter": "python",
   "pygments_lexer": "ipython3",
   "version": "3.10.8"
  }
 },
 "nbformat": 4,
 "nbformat_minor": 5
}
