{
 "cells": [
  {
   "cell_type": "code",
   "execution_count": 14,
   "id": "e5f799d0-9f92-418e-80f4-b9dca859f4d4",
   "metadata": {},
   "outputs": [],
   "source": [
    "# Q1.Create a vehicle class with an init method having instance variables as name_of_vehicle, max_speed and average_of_vehicle.\n",
    "# Ans.\n",
    "\n",
    "class vehicle :\n",
    "    \n",
    "    \n",
    "    def __init__(self, name_of_vehicle,max_speed,average_of_vehicle):\n",
    "        self.name_of_vehicle = name_of_vehicle\n",
    "        self.max_speed = max_speed\n",
    "        self.average_of_vehicle = average_of_vehicle\n",
    "        \n",
    "    def return_vehicle_details(self):\n",
    "        return self.name_of_vehicle,self.max_speed,self.average_of_vehicle    "
   ]
  },
  {
   "cell_type": "code",
   "execution_count": 15,
   "id": "0e351e0e-43f1-4771-89c4-66b51463254a",
   "metadata": {},
   "outputs": [],
   "source": [
    "v = vehicle(\"Fortuner\",120,\"10.0 kmpl\")"
   ]
  },
  {
   "cell_type": "code",
   "execution_count": 16,
   "id": "3aef9762-77e9-407a-9b66-b66724f1b61c",
   "metadata": {},
   "outputs": [
    {
     "data": {
      "text/plain": [
       "'Fortuner'"
      ]
     },
     "execution_count": 16,
     "metadata": {},
     "output_type": "execute_result"
    }
   ],
   "source": [
    "v.name_of_vehicle"
   ]
  },
  {
   "cell_type": "code",
   "execution_count": 17,
   "id": "caa67c84-9e48-4d17-a2cc-d0f080c50645",
   "metadata": {},
   "outputs": [
    {
     "data": {
      "text/plain": [
       "'10.0 kmpl'"
      ]
     },
     "execution_count": 17,
     "metadata": {},
     "output_type": "execute_result"
    }
   ],
   "source": [
    "v.average_of_vehicle"
   ]
  },
  {
   "cell_type": "code",
   "execution_count": 92,
   "id": "a579b1dc-feb8-4226-bd07-feacee9791a5",
   "metadata": {},
   "outputs": [
    {
     "data": {
      "text/plain": [
       "('Fortuner', 120, '10.0 kmpl')"
      ]
     },
     "execution_count": 92,
     "metadata": {},
     "output_type": "execute_result"
    }
   ],
   "source": [
    "v.return_vehicle_details()"
   ]
  },
  {
   "cell_type": "code",
   "execution_count": 22,
   "id": "a114d65a-55e4-407c-bfbb-6f700eb6c854",
   "metadata": {},
   "outputs": [],
   "source": [
    "# Q2. Create a child class car from the vehicle class created in Que 1, which will inherit the vehicle class.\n",
    "#     Create a method named seating_capacity which takes capacity as an argument and returns the name of\n",
    "#     the vehicle and its seating capacity.\n",
    "# Ans.\n"
   ]
  },
  {
   "cell_type": "code",
   "execution_count": 31,
   "id": "46ec64f2-861c-4f53-83dc-65be62144537",
   "metadata": {},
   "outputs": [],
   "source": [
    "class vehicle :\n",
    "    \n",
    "    \n",
    "    def __init__(self, name_of_vehicle,max_speed,average_of_vehicle,seating_capacity):\n",
    "        self.name_of_vehicle = name_of_vehicle\n",
    "        self.max_speed = max_speed\n",
    "        self.average_of_vehicle = average_of_vehicle\n",
    "        self.seating_capacity = seating_capacity\n",
    "        \n",
    "    def return_vehicle_details(self):\n",
    "        return self.name_of_vehicle,self.max_speed,self.average_of_vehicle ,self.seating_capacity \n"
   ]
  },
  {
   "cell_type": "code",
   "execution_count": 32,
   "id": "c98626b9-3f21-4a84-a214-5977d136f7bd",
   "metadata": {},
   "outputs": [],
   "source": [
    "v = vehicle(\"Fortuner\",120,\"10.0 kmpl\",\"8 Passengers\")"
   ]
  },
  {
   "cell_type": "code",
   "execution_count": 33,
   "id": "06761197-dfc2-4981-8adc-8f8c3d942ad4",
   "metadata": {},
   "outputs": [],
   "source": [
    "class child_car(vehicle):\n",
    "    def return_seating_capacity(self):\n",
    "             return self.name_of_vehicle ,self.seating_capacity\n",
    "    "
   ]
  },
  {
   "cell_type": "code",
   "execution_count": 34,
   "id": "7dfb89e9-2544-4567-a480-3f09c3e46e0a",
   "metadata": {},
   "outputs": [
    {
     "data": {
      "text/plain": [
       "'Fortuner'"
      ]
     },
     "execution_count": 34,
     "metadata": {},
     "output_type": "execute_result"
    }
   ],
   "source": [
    "v.name_of_vehicle"
   ]
  },
  {
   "cell_type": "code",
   "execution_count": 35,
   "id": "7e71440c-f7f6-4c7f-8c34-9b9827580ccc",
   "metadata": {},
   "outputs": [
    {
     "data": {
      "text/plain": [
       "('Fortuner', 120, '10.0 kmpl', '8 Passengers')"
      ]
     },
     "execution_count": 35,
     "metadata": {},
     "output_type": "execute_result"
    }
   ],
   "source": [
    "v.return_vehicle_details()"
   ]
  },
  {
   "cell_type": "code",
   "execution_count": 37,
   "id": "adecf13c-04bc-49d5-87f6-f7a0227a5f64",
   "metadata": {},
   "outputs": [
    {
     "data": {
      "text/plain": [
       "'8 Passengers'"
      ]
     },
     "execution_count": 37,
     "metadata": {},
     "output_type": "execute_result"
    }
   ],
   "source": [
    "v.seating_capacity"
   ]
  },
  {
   "cell_type": "code",
   "execution_count": 28,
   "id": "16ce1ee0-d67a-42f9-8568-bba855f4634d",
   "metadata": {},
   "outputs": [],
   "source": [
    "obj_child_car = child_car(\"Fortuner\",120,\"10.0 kmpl\",\"8 Passengers\")"
   ]
  },
  {
   "cell_type": "code",
   "execution_count": 30,
   "id": "008bdbb1-c280-4df2-b0e6-d90cb88f68e8",
   "metadata": {},
   "outputs": [
    {
     "data": {
      "text/plain": [
       "('Fortuner', '8 Passengers')"
      ]
     },
     "execution_count": 30,
     "metadata": {},
     "output_type": "execute_result"
    }
   ],
   "source": [
    "obj_child_car.return_seating_capacity()"
   ]
  },
  {
   "cell_type": "code",
   "execution_count": 39,
   "id": "f528985f-bb73-4ff8-81e6-6f6cebc694f2",
   "metadata": {},
   "outputs": [
    {
     "data": {
      "text/plain": [
       "'Fortuner'"
      ]
     },
     "execution_count": 39,
     "metadata": {},
     "output_type": "execute_result"
    }
   ],
   "source": [
    "obj_child_car.name_of_vehicle"
   ]
  },
  {
   "cell_type": "code",
   "execution_count": 14,
   "id": "9f28b66e-dcf3-45b9-89cf-450c6864cd42",
   "metadata": {},
   "outputs": [],
   "source": [
    "# Q3. What is multiple inheritance? Write a python code to demonstrate multiple inheritance.\n",
    "\n",
    "# Ans. Multiple inheritance is a feature of some object-oriented computer programming languages in which an object \n",
    "#      or class can inherit features from more than one parent object or parent class."
   ]
  },
  {
   "cell_type": "code",
   "execution_count": 40,
   "id": "04d0b78b-dafc-422a-bb50-83d02220a85b",
   "metadata": {},
   "outputs": [],
   "source": [
    "class class1 :\n",
    "    \n",
    "    def test_class1(self) :\n",
    "        return \"this is a class1\""
   ]
  },
  {
   "cell_type": "code",
   "execution_count": 41,
   "id": "104f50b7-908f-479e-99de-ab6b3a9a9c9b",
   "metadata": {},
   "outputs": [],
   "source": [
    "class class2:\n",
    "    \n",
    "    def test_class2(self) :\n",
    "        return \"this is a class2\""
   ]
  },
  {
   "cell_type": "code",
   "execution_count": 42,
   "id": "d984cb4b-adce-4451-9325-207a149b1be7",
   "metadata": {},
   "outputs": [],
   "source": [
    "class class3(class1,class2) :\n",
    "    pass"
   ]
  },
  {
   "cell_type": "code",
   "execution_count": 43,
   "id": "00675af5-7f48-487e-947d-49fcaeed1c48",
   "metadata": {},
   "outputs": [],
   "source": [
    "obj_class3 = class3()"
   ]
  },
  {
   "cell_type": "code",
   "execution_count": 44,
   "id": "74ab49ad-6b24-4e20-9963-2225257779ce",
   "metadata": {},
   "outputs": [
    {
     "data": {
      "text/plain": [
       "'this is a class1'"
      ]
     },
     "execution_count": 44,
     "metadata": {},
     "output_type": "execute_result"
    }
   ],
   "source": [
    "obj_class3.test_class1()"
   ]
  },
  {
   "cell_type": "code",
   "execution_count": 47,
   "id": "8626e9b0-b959-4371-9700-ebf2cd0bd719",
   "metadata": {},
   "outputs": [
    {
     "data": {
      "text/plain": [
       "'this is a class2'"
      ]
     },
     "execution_count": 47,
     "metadata": {},
     "output_type": "execute_result"
    }
   ],
   "source": [
    "obj_class3.test_class2()"
   ]
  },
  {
   "cell_type": "code",
   "execution_count": null,
   "id": "8ff3e634-8ad1-4287-9e39-30920b76a9d4",
   "metadata": {},
   "outputs": [],
   "source": [
    "# Q4. What are getter and setter in python? Create a class and create a getter and a setter method in this class.\n",
    "\n",
    "# Ans.Getter: A method that allows you to access an attribute in a given class. \n",
    "#     Setter: A method that allows you to set or mutate the value of an attribute in a class\n"
   ]
  },
  {
   "cell_type": "code",
   "execution_count": 61,
   "id": "baf32186-0337-4422-a81a-ee8c3245f0b7",
   "metadata": {},
   "outputs": [],
   "source": [
    "class car:\n",
    "    def __init__(self ,year,make,model,speed):\n",
    "        \n",
    "        self.__year = year\n",
    "        self.__make = make\n",
    "        self.__model = model\n",
    "        self.__speed = speed\n",
    "        \n",
    "    def set_speed(self,speed):\n",
    "        self.__speed = 0 if speed<0 else speed\n",
    "        \n",
    "    def get_speed(self):\n",
    "        return self.__speed"
   ]
  },
  {
   "cell_type": "code",
   "execution_count": 62,
   "id": "c435bb24-c198-4496-a86f-67c0bfc0f39b",
   "metadata": {},
   "outputs": [],
   "source": [
    "c= car(2023,\"Mahindra\",\"THAR\",120)"
   ]
  },
  {
   "cell_type": "code",
   "execution_count": 63,
   "id": "a2af6dcf-55f1-4937-a395-d0d5b5ce03a0",
   "metadata": {},
   "outputs": [
    {
     "data": {
      "text/plain": [
       "'THAR'"
      ]
     },
     "execution_count": 63,
     "metadata": {},
     "output_type": "execute_result"
    }
   ],
   "source": [
    "c._car__model"
   ]
  },
  {
   "cell_type": "code",
   "execution_count": 64,
   "id": "707d4e23-abae-424d-ab63-fad1f8c49122",
   "metadata": {},
   "outputs": [],
   "source": [
    "c.set_speed(200)"
   ]
  },
  {
   "cell_type": "code",
   "execution_count": 65,
   "id": "72474104-3335-4c9e-9a7f-1fc4b78642c9",
   "metadata": {},
   "outputs": [
    {
     "data": {
      "text/plain": [
       "200"
      ]
     },
     "execution_count": 65,
     "metadata": {},
     "output_type": "execute_result"
    }
   ],
   "source": [
    "c.get_speed()"
   ]
  },
  {
   "cell_type": "code",
   "execution_count": 67,
   "id": "7522706d-dd37-4672-8f84-c88fc2c0a80a",
   "metadata": {},
   "outputs": [],
   "source": [
    "c.set_speed(0)"
   ]
  },
  {
   "cell_type": "code",
   "execution_count": 69,
   "id": "edb8f00a-5c6f-4332-8a57-eef83c6c91a8",
   "metadata": {},
   "outputs": [
    {
     "data": {
      "text/plain": [
       "0"
      ]
     },
     "execution_count": 69,
     "metadata": {},
     "output_type": "execute_result"
    }
   ],
   "source": [
    "c.get_speed()"
   ]
  },
  {
   "cell_type": "code",
   "execution_count": null,
   "id": "3fbdbb63-e4c4-4c08-9632-f9e15d2b4986",
   "metadata": {},
   "outputs": [],
   "source": [
    "# Q5.What is method overriding in python? Write a python code to demonstrate method overriding.\n",
    "\n",
    "# Ans.Method overriding is an ability of any object-oriented programming language that allows a subclass\n",
    "#     or child class to provide a specific implementation of a method that is already provided by one of \n",
    "#     its super-classes or parent classes. When a method in a subclass has the same name, same parameters \n",
    "#     or signature and same return type(or sub-type) as a method in its super-class, \n",
    "#     then the method in the subclass is said to override the method in the super-class."
   ]
  },
  {
   "cell_type": "code",
   "execution_count": 70,
   "id": "ca15f27c-dd24-44bd-b0d9-dd2fd63f8b72",
   "metadata": {},
   "outputs": [],
   "source": [
    "class Parent():\n",
    "      \n",
    "    def __init__(self):\n",
    "        self.value = \"Inside Parent\"\n",
    "          \n",
    "    def show(self):\n",
    "        print(self.value)\n",
    "        "
   ]
  },
  {
   "cell_type": "code",
   "execution_count": 71,
   "id": "b97dd47c-73d7-470b-bb8f-74f8dc43517d",
   "metadata": {},
   "outputs": [],
   "source": [
    "class Child(Parent):\n",
    "      \n",
    "    def __init__(self):\n",
    "        self.value = \"Inside Child\"\n",
    "          \n",
    "    def show(self):\n",
    "        print(self.value)\n",
    "          "
   ]
  },
  {
   "cell_type": "code",
   "execution_count": 72,
   "id": "bc0ff94c-fe13-4aa9-b2bc-672136ba55d0",
   "metadata": {},
   "outputs": [],
   "source": [
    "obj1 = Parent()\n",
    "obj2 = Child()"
   ]
  },
  {
   "cell_type": "code",
   "execution_count": 73,
   "id": "c30f02f6-7195-4ea2-bd8c-e0c8ac4478aa",
   "metadata": {},
   "outputs": [
    {
     "name": "stdout",
     "output_type": "stream",
     "text": [
      "Inside Parent\n"
     ]
    }
   ],
   "source": [
    "obj1.show()"
   ]
  },
  {
   "cell_type": "code",
   "execution_count": 74,
   "id": "96c69340-89d3-4e59-89cf-00c279c992e0",
   "metadata": {},
   "outputs": [
    {
     "name": "stdout",
     "output_type": "stream",
     "text": [
      "Inside Child\n"
     ]
    }
   ],
   "source": [
    "obj2.show()"
   ]
  },
  {
   "cell_type": "code",
   "execution_count": null,
   "id": "e2fdd650-48c6-4033-b62b-788527c7397f",
   "metadata": {},
   "outputs": [],
   "source": []
  }
 ],
 "metadata": {
  "kernelspec": {
   "display_name": "Python 3 (ipykernel)",
   "language": "python",
   "name": "python3"
  },
  "language_info": {
   "codemirror_mode": {
    "name": "ipython",
    "version": 3
   },
   "file_extension": ".py",
   "mimetype": "text/x-python",
   "name": "python",
   "nbconvert_exporter": "python",
   "pygments_lexer": "ipython3",
   "version": "3.10.8"
  }
 },
 "nbformat": 4,
 "nbformat_minor": 5
}
