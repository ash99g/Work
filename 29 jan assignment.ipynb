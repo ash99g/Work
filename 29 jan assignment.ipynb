{
 "cells": [
  {
   "cell_type": "code",
   "execution_count": 1,
   "id": "29dc21be-e42c-428c-b23a-d5aa970fa3ef",
   "metadata": {},
   "outputs": [],
   "source": [
    "# Q.1 Who developed python programming language?\n",
    "# Ans. Guido van Rossum"
   ]
  },
  {
   "cell_type": "code",
   "execution_count": null,
   "id": "bad29415-7908-4c42-8427-a9ac3aefe253",
   "metadata": {},
   "outputs": [],
   "source": [
    "# Q2.Which type of programming does python support?\n",
    "# Ans.Python is a multi-paradigm programming language. Object-oriented programming and structured programming are fully supported, and many of their features support functional programming and aspect-oriented programming (including metaprogramming and metaobjects)."
   ]
  },
  {
   "cell_type": "code",
   "execution_count": 2,
   "id": "ff2da986-db27-4bc7-811c-f7620fb2621e",
   "metadata": {},
   "outputs": [],
   "source": [
    "# Q3.Is python case sensitive when dealing with identifiers?\n",
    "# Ans.Yes, Python is a case-sensitive language"
   ]
  },
  {
   "cell_type": "code",
   "execution_count": 3,
   "id": "e36614f7-6ba5-4f1e-8931-8a292495dc4d",
   "metadata": {},
   "outputs": [],
   "source": [
    "# Q4.What is the correct extension of the python file?\n",
    "# Ans. The extensions for Python files are - . py, . pyi, ."
   ]
  },
  {
   "cell_type": "code",
   "execution_count": 4,
   "id": "162610fa-2197-438f-b1a2-02428e105ed8",
   "metadata": {},
   "outputs": [],
   "source": [
    "# Q5. Is python code compiled or interpreted?\n",
    "# Ans.Python is an interpreted language, which means the source code of a Python program is converted into bytecode that is then executed by the Python virtual machine."
   ]
  },
  {
   "cell_type": "code",
   "execution_count": 5,
   "id": "cd1a5d05-0824-4b2d-98e5-34bf845bd8c3",
   "metadata": {},
   "outputs": [],
   "source": [
    "# Q6.Name a few blocks of code used to define in python language?\n",
    "# Ans.The following are blocks: a module, a function body, and a class definition. Each command typed interactively is a block."
   ]
  },
  {
   "cell_type": "code",
   "execution_count": 6,
   "id": "d8c47318-678d-47c9-92fc-6932b2cdc615",
   "metadata": {},
   "outputs": [],
   "source": [
    "# Q7.State a character used to give single-line comments in python?\n",
    "# Ans.We can write a single-line comment by adding a single # character before any statement or line of code."
   ]
  },
  {
   "cell_type": "code",
   "execution_count": 8,
   "id": "46aa50ca-1d09-4a72-95aa-b32c61ae212f",
   "metadata": {},
   "outputs": [],
   "source": [
    "# Q8.Mention function which can help us to find the version of python that we are currently working on?\n",
    "# Ans. Using sys. version method.\n",
    "#      Using python_version() function.\n",
    "#      Using Python -V command."
   ]
  },
  {
   "cell_type": "code",
   "execution_count": 9,
   "id": "3c1c8598-1270-4b37-a978-4eab2fcd74d1",
   "metadata": {},
   "outputs": [],
   "source": [
    "# Q9.Python supports the creation of anonymous functions at runtime,using a construct called _________________\n",
    "# Ans.It uses a construct called \"lambda\" ."
   ]
  },
  {
   "cell_type": "code",
   "execution_count": 10,
   "id": "00779c91-fd4b-4cca-8cbb-44532382c277",
   "metadata": {},
   "outputs": [],
   "source": [
    "# Q10.What does pip stand for python?\n",
    "# Ans.pip Install Packages"
   ]
  },
  {
   "cell_type": "code",
   "execution_count": 11,
   "id": "6c3c1a5c-686f-447e-b07f-98a7c28daa69",
   "metadata": {},
   "outputs": [],
   "source": [
    "# Q11.Mention a few built-in function in python?\n",
    "# Ans. 1. abs()\n",
    "#      2. bool()\n",
    "#      3. classmethod()\n",
    "#      4. dict()\n",
    "#      5.dir()\n",
    "#      6. float()"
   ]
  },
  {
   "cell_type": "code",
   "execution_count": 12,
   "id": "cb24ff27-ec33-4c5a-a3e6-18cdd81f8824",
   "metadata": {},
   "outputs": [],
   "source": [
    "# Q12.What is the maximum possible length of an identifier in python?\n",
    "# Ans.An identifier can have a maximum length of 79 characters in Python."
   ]
  },
  {
   "cell_type": "code",
   "execution_count": 13,
   "id": "cded8fe7-eef1-4149-83df-6b9d6c81d32b",
   "metadata": {},
   "outputs": [],
   "source": [
    "# Q13.What are the benefits of using python?\n",
    "# Ans.Advantages of Python: simple, clean, and fast to write.\n",
    "#     Due to easy syntax, it gained popularity not only among software engineers but also with data scientists and academic \n",
    "#     researchers. Its simplicity is best for overcoming complex problems and make it the most popular choice for machine learning and data processing."
   ]
  },
  {
   "cell_type": "code",
   "execution_count": 14,
   "id": "c175459a-5448-4dcd-8cce-848b9bc35722",
   "metadata": {},
   "outputs": [],
   "source": [
    "# Q14.How is memory managed in python?\n",
    "# Ans.Memory in Python is managed by Python private heap space. All Python objects and data structures are located in a private heap. \n",
    "#     This private heap is taken care of by Python Interpreter itself, and a programmer doesn't have access to this private heap.\n"
   ]
  },
  {
   "cell_type": "code",
   "execution_count": 15,
   "id": "ed60b54c-48be-4784-bfea-ee03c489d9cc",
   "metadata": {},
   "outputs": [],
   "source": [
    "# Q15.How to install python on windows and set path variables?\n",
    "# Ans. 1.Open a browser to the Python website and download the Windows installer.\n",
    "#      2. Double click on the downloaded file and install Python for all users, and ensure that Python is added to your path. Click on Install now to begin.\n",
    "\n",
    "#      Then go to advanced system settings and add new variable and name it as PYTHON_NAME and paste the copied path.\n",
    "#      Then look for the path variable, select it's value and select edit\n",
    "#      Add a semicolon towards the end of the value if it's not present and then type %PYTHON_HOME%"
   ]
  },
  {
   "cell_type": "code",
   "execution_count": null,
   "id": "e1cc4d67-6806-455f-9aef-7a1d9da5f8d6",
   "metadata": {},
   "outputs": [],
   "source": [
    "# Q16.Is indentation required in python?\n",
    "# Ans. Indentation refers to the spaces at the beginning of a code line. Where in other programming languages the indentation in code is for readability only, the indentation in Python is very important. \n",
    "#      Python uses indentation to indicate a block of code."
   ]
  }
 ],
 "metadata": {
  "kernelspec": {
   "display_name": "Python 3 (ipykernel)",
   "language": "python",
   "name": "python3"
  },
  "language_info": {
   "codemirror_mode": {
    "name": "ipython",
    "version": 3
   },
   "file_extension": ".py",
   "mimetype": "text/x-python",
   "name": "python",
   "nbconvert_exporter": "python",
   "pygments_lexer": "ipython3",
   "version": "3.10.8"
  }
 },
 "nbformat": 4,
 "nbformat_minor": 5
}
