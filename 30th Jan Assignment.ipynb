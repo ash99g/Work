{
 "cells": [
  {
   "cell_type": "code",
   "execution_count": 2,
   "id": "f717b22a-5008-42ba-8f3e-7ada0c1a4f96",
   "metadata": {},
   "outputs": [],
   "source": [
    " ### Question No.1"
   ]
  },
  {
   "cell_type": "code",
   "execution_count": 3,
   "id": "59593a7a-9e3c-48b9-bbc5-b6bbeca2fb56",
   "metadata": {},
   "outputs": [
    {
     "name": "stdin",
     "output_type": "stream",
     "text": [
      "enter your marks 66\n"
     ]
    },
    {
     "name": "stdout",
     "output_type": "stream",
     "text": [
      "Grade C\n"
     ]
    }
   ],
   "source": [
    "marks = int(input('enter your marks'))\n",
    "if marks >90 :\n",
    "    print('Grade A')\n",
    "elif marks >80 and marks <=90 :\n",
    "    print('Grade B')\n",
    "elif marks >=60 and marks <=80 :\n",
    "    print('Grade C')\n",
    "else :\n",
    "    print('Grade D')"
   ]
  },
  {
   "cell_type": "code",
   "execution_count": null,
   "id": "9c5ee871-2eb1-4c29-aac0-58ffcafb8bc0",
   "metadata": {},
   "outputs": [],
   "source": [
    "### Question No.2"
   ]
  },
  {
   "cell_type": "code",
   "execution_count": 3,
   "id": "5b32a1b5-eab2-4521-a351-af4443388678",
   "metadata": {},
   "outputs": [
    {
     "name": "stdin",
     "output_type": "stream",
     "text": [
      "enter your cost 250000\n"
     ]
    },
    {
     "name": "stdout",
     "output_type": "stream",
     "text": [
      "road tax 15%\n",
      "amount of tax paid = 37500.0\n"
     ]
    }
   ],
   "source": [
    "cost  = int(input('enter your cost'))\n",
    "t = cost*15/100\n",
    "v = cost*10/100\n",
    "p = cost*5/100\n",
    "if cost   >100000 :\n",
    "    print('road tax 15%')\n",
    "    print('amount of tax paid =',t)\n",
    "elif cost   >50000 and cost  <=100000 :\n",
    "    print('road tax 10%')\n",
    "    print('amount of tax paid =',v)\n",
    "else :\n",
    "    print('road tax 5%')\n",
    "    print('amount of tax paid =',p)"
   ]
  },
  {
   "cell_type": "code",
   "execution_count": 5,
   "id": "68d40401-6759-40c0-8d60-a46994d0a7c1",
   "metadata": {},
   "outputs": [],
   "source": [
    "### Question No.3"
   ]
  },
  {
   "cell_type": "code",
   "execution_count": 33,
   "id": "3d98fe7f-e442-4157-b3d5-f3925b9d142f",
   "metadata": {},
   "outputs": [
    {
     "name": "stdin",
     "output_type": "stream",
     "text": [
      "enter your city JAIPUR\n"
     ]
    },
    {
     "name": "stdout",
     "output_type": "stream",
     "text": [
      "Jay Mahal\n"
     ]
    }
   ],
   "source": [
    "city = input('enter your city')\n",
    "if city == 'Delhi'.lower() or city == 'Delhi'.upper()or city == 'Delhi'.capitalize():\n",
    "    print('Red Fort')\n",
    "elif city == 'Agra'.lower() or city == 'Agra'.upper()or city == 'Agra'.capitalize():\n",
    "    print('Taj Mahal')\n",
    "elif city == 'Jaipur'.lower() or city == 'Jaipur'.upper()or city == 'Jaipur'.capitalize():\n",
    "    print('Jay Mahal')\n",
    "else :\n",
    "    print('not found')"
   ]
  },
  {
   "cell_type": "code",
   "execution_count": 9,
   "id": "384721fe-e194-4b88-92b6-cea8c06de1ed",
   "metadata": {},
   "outputs": [],
   "source": [
    "### Question No.4"
   ]
  },
  {
   "cell_type": "code",
   "execution_count": 2,
   "id": "e025abd7-e43d-4a12-970a-d118994198b2",
   "metadata": {},
   "outputs": [
    {
     "name": "stdin",
     "output_type": "stream",
     "text": [
      "enter your number 500\n"
     ]
    },
    {
     "name": "stdout",
     "output_type": "stream",
     "text": [
      "4\n"
     ]
    }
   ],
   "source": [
    "given_number = int(input('enter your number'))\n",
    "count = 0\n",
    "\n",
    "while True:\n",
    "    if given_number%3==0:\n",
    "        given_number = given_number/3\n",
    "        count+=1\n",
    "    elif given_number%3!=0:\n",
    "        given_number-=1\n",
    "    if given_number<=10:\n",
    "        break\n",
    "print(count)        "
   ]
  },
  {
   "cell_type": "code",
   "execution_count": null,
   "id": "f30a4aea-0d95-457f-b6c5-17a86c1ce588",
   "metadata": {},
   "outputs": [],
   "source": [
    "### Question No. 5"
   ]
  },
  {
   "cell_type": "code",
   "execution_count": null,
   "id": "54760e8b-54c7-4928-86b9-72588b71c1b5",
   "metadata": {},
   "outputs": [],
   "source": [
    "### Ans. Python while loop is used to run a block code until a certain condition is met. Here, A while loop evaluates the condition. \n",
    "###      If the condition evaluates to True , the code inside the while loop is executed."
   ]
  },
  {
   "cell_type": "code",
   "execution_count": 25,
   "id": "2796d5cc-b2b2-46bc-8443-1ecf30c6edea",
   "metadata": {},
   "outputs": [
    {
     "name": "stdout",
     "output_type": "stream",
     "text": [
      "1\n",
      "2\n",
      "3\n",
      "4\n",
      "5\n",
      "6\n",
      "7\n",
      "8\n",
      "9\n",
      "10\n"
     ]
    }
   ],
   "source": [
    "a = 1\n",
    "\n",
    "while a<=10 :\n",
    "    print(a)\n",
    "    a= a+1"
   ]
  },
  {
   "cell_type": "code",
   "execution_count": 54,
   "id": "a4584a63-35a4-4604-b22d-95bc4db0d19d",
   "metadata": {},
   "outputs": [
    {
     "name": "stdout",
     "output_type": "stream",
     "text": [
      "\n",
      "1\n",
      "11\n",
      "111\n",
      "1111\n",
      "11111\n",
      "\n",
      "\n",
      "\n",
      "\n"
     ]
    }
   ],
   "source": [
    "### Question No.6\n",
    " \n",
    "a,b = 1,1\n",
    "while a<=5:\n",
    "    print(\"\")\n",
    "    while b<=5:\n",
    "        print(\"1\"*b)\n",
    "        b +=1\n",
    "    a +=1    "
   ]
  },
  {
   "cell_type": "code",
   "execution_count": 61,
   "id": "0799271c-cc48-4c18-a243-d327ebb7c427",
   "metadata": {},
   "outputs": [
    {
     "name": "stdout",
     "output_type": "stream",
     "text": [
      "\n",
      "1234\n",
      "1234\n",
      "1234\n",
      "1234\n",
      "1234\n",
      "\n",
      "\n",
      "\n",
      "\n"
     ]
    }
   ],
   "source": [
    "a,b = 1,1\n",
    "while a<=5:\n",
    "    print(\"\")\n",
    "    while b<=5:\n",
    "        print(\"1234\")\n",
    "        b +=1\n",
    "    a +=1    "
   ]
  },
  {
   "cell_type": "code",
   "execution_count": 66,
   "id": "d9537429-d11b-4a65-bfdf-5c7bac211d8e",
   "metadata": {},
   "outputs": [
    {
     "name": "stdout",
     "output_type": "stream",
     "text": [
      "\n",
      "1 2 3\n",
      "11 22 33\n",
      "111 222 333\n",
      "1111 2222 3333\n",
      "11111 22222 33333\n",
      "\n",
      "\n",
      "\n",
      "\n"
     ]
    }
   ],
   "source": [
    "a,b = 1,1\n",
    "while a<=5:\n",
    "    print(\"\")\n",
    "    while b<=5:\n",
    "        print(\"1\"*b,\"2\"*b,\"3\"*b)\n",
    "        b +=1\n",
    "    a +=1    "
   ]
  },
  {
   "cell_type": "code",
   "execution_count": 67,
   "id": "2a2af225-7935-4ad6-b446-2b3f7deb1a5b",
   "metadata": {},
   "outputs": [
    {
     "name": "stdout",
     "output_type": "stream",
     "text": [
      "10\n",
      "9\n",
      "8\n",
      "7\n",
      "6\n",
      "5\n",
      "4\n",
      "3\n",
      "2\n",
      "1\n"
     ]
    }
   ],
   "source": [
    "### Question No. 7\n",
    "\n",
    "i = 10\n",
    "while i > 0:\n",
    "    print(i)\n",
    "    i = i - 1\n"
   ]
  },
  {
   "cell_type": "code",
   "execution_count": 68,
   "id": "a47f4ad0-af30-425d-a353-466a91dfd9ed",
   "metadata": {},
   "outputs": [
    {
     "name": "stdout",
     "output_type": "stream",
     "text": [
      "10\n",
      "9\n",
      "8\n",
      "7\n",
      "6\n",
      "5\n",
      "4\n",
      "3\n",
      "2\n",
      "1\n"
     ]
    }
   ],
   "source": [
    "### Question No. 8\n",
    "\n",
    "i = 10\n",
    "while i > 0:\n",
    "    print(i)\n",
    "    i = i - 1\n"
   ]
  },
  {
   "cell_type": "code",
   "execution_count": null,
   "id": "2bb78c83-b4a9-4449-a77c-58289d895c51",
   "metadata": {},
   "outputs": [],
   "source": []
  }
 ],
 "metadata": {
  "kernelspec": {
   "display_name": "Python 3 (ipykernel)",
   "language": "python",
   "name": "python3"
  },
  "language_info": {
   "codemirror_mode": {
    "name": "ipython",
    "version": 3
   },
   "file_extension": ".py",
   "mimetype": "text/x-python",
   "name": "python",
   "nbconvert_exporter": "python",
   "pygments_lexer": "ipython3",
   "version": "3.10.8"
  }
 },
 "nbformat": 4,
 "nbformat_minor": 5
}
