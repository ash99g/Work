{
 "cells": [
  {
   "cell_type": "code",
   "execution_count": 11,
   "id": "888caa91-18b7-4dca-a812-0371d3758f56",
   "metadata": {},
   "outputs": [],
   "source": [
    "import numpy as np"
   ]
  },
  {
   "cell_type": "code",
   "execution_count": null,
   "id": "c615768f-f52d-40d4-8e06-2178325aaad8",
   "metadata": {},
   "outputs": [],
   "source": [
    "# Q1. Is there any difference in the data type of variables list_ and array_list? If there is then write a code\n",
    "#     to print the data types of both the variables."
   ]
  },
  {
   "cell_type": "code",
   "execution_count": 12,
   "id": "68781420-fddb-4f8b-9a94-5ae1bb92d2fe",
   "metadata": {},
   "outputs": [],
   "source": [
    "list_ = [1,2,3,4,5]"
   ]
  },
  {
   "cell_type": "code",
   "execution_count": 13,
   "id": "dafacb0d-fed7-47a9-b5fa-21e16e998dc3",
   "metadata": {},
   "outputs": [],
   "source": [
    "array_list = np.array(list_)"
   ]
  },
  {
   "cell_type": "code",
   "execution_count": 14,
   "id": "cdf9289c-426d-4f0a-a138-b499d34437b5",
   "metadata": {},
   "outputs": [
    {
     "data": {
      "text/plain": [
       "array([1, 2, 3, 4, 5])"
      ]
     },
     "execution_count": 14,
     "metadata": {},
     "output_type": "execute_result"
    }
   ],
   "source": [
    "array_list"
   ]
  },
  {
   "cell_type": "code",
   "execution_count": 17,
   "id": "8063f4b0-d839-408a-8216-0ee414575c77",
   "metadata": {},
   "outputs": [
    {
     "data": {
      "text/plain": [
       "dtype('int64')"
      ]
     },
     "execution_count": 17,
     "metadata": {},
     "output_type": "execute_result"
    }
   ],
   "source": [
    "array_list.dtype"
   ]
  },
  {
   "cell_type": "code",
   "execution_count": 18,
   "id": "a3ed5b62-6cfc-45b0-ace4-636202669381",
   "metadata": {},
   "outputs": [
    {
     "data": {
      "text/plain": [
       "numpy.ndarray"
      ]
     },
     "execution_count": 18,
     "metadata": {},
     "output_type": "execute_result"
    }
   ],
   "source": [
    "type(array_list)"
   ]
  },
  {
   "cell_type": "code",
   "execution_count": 19,
   "id": "59e14bab-633b-4a95-899c-391eace198af",
   "metadata": {},
   "outputs": [
    {
     "data": {
      "text/plain": [
       "list"
      ]
     },
     "execution_count": 19,
     "metadata": {},
     "output_type": "execute_result"
    }
   ],
   "source": [
    "type(list_)"
   ]
  },
  {
   "cell_type": "code",
   "execution_count": 20,
   "id": "6bdb05d7-8065-4aac-b5ec-70bcfc64da76",
   "metadata": {},
   "outputs": [],
   "source": [
    "# Q2. Write a code to print the data type of each and every element of both the variables list_ and array_list."
   ]
  },
  {
   "cell_type": "code",
   "execution_count": 21,
   "id": "d3af8f21-4ad1-4ddc-91dc-fef149270008",
   "metadata": {},
   "outputs": [],
   "source": [
    "# Ans.\n",
    "\n",
    "list_ = [1,2,3,4,5]"
   ]
  },
  {
   "cell_type": "code",
   "execution_count": 23,
   "id": "290e04a5-a9eb-4d99-a418-eaed7bd5c586",
   "metadata": {},
   "outputs": [],
   "source": [
    "array_list = np.array([[5,6,6,6],['ash','gah','sat','hat'],[5,6,'ss','aa']])"
   ]
  },
  {
   "cell_type": "code",
   "execution_count": 24,
   "id": "7a283570-5f74-4a40-a791-51100c87ce47",
   "metadata": {},
   "outputs": [
    {
     "data": {
      "text/plain": [
       "array([['5', '6', '6', '6'],\n",
       "       ['ash', 'gah', 'sat', 'hat'],\n",
       "       ['5', '6', 'ss', 'aa']], dtype='<U21')"
      ]
     },
     "execution_count": 24,
     "metadata": {},
     "output_type": "execute_result"
    }
   ],
   "source": [
    "array_list"
   ]
  },
  {
   "cell_type": "code",
   "execution_count": 31,
   "id": "7da2d873-e942-491d-835d-01423a8c9c18",
   "metadata": {},
   "outputs": [
    {
     "data": {
      "text/plain": [
       "list[slice(0, 5, None)]"
      ]
     },
     "execution_count": 31,
     "metadata": {},
     "output_type": "execute_result"
    }
   ],
   "source": [
    "type(list_)[0:5]"
   ]
  },
  {
   "cell_type": "code",
   "execution_count": 42,
   "id": "a10c1877-5cff-4937-a8ab-2f2f146f75ed",
   "metadata": {},
   "outputs": [
    {
     "data": {
      "text/plain": [
       "dtype('int64')"
      ]
     },
     "execution_count": 42,
     "metadata": {},
     "output_type": "execute_result"
    }
   ],
   "source": [
    "array_list.dtype"
   ]
  },
  {
   "cell_type": "code",
   "execution_count": 28,
   "id": "175a8038-4ce3-4a3d-881d-f27a36914908",
   "metadata": {},
   "outputs": [
    {
     "data": {
      "text/plain": [
       "numpy.ndarray"
      ]
     },
     "execution_count": 28,
     "metadata": {},
     "output_type": "execute_result"
    }
   ],
   "source": [
    "type(array_list)"
   ]
  },
  {
   "cell_type": "code",
   "execution_count": 33,
   "id": "bde87b79-28a5-44e0-9e4c-c4d91800a07c",
   "metadata": {},
   "outputs": [],
   "source": [
    "# Q3. Considering the following changes in the variable, array_list:\n",
    "# array_list = np.array(object = list_, dtype = int)\n",
    "\n",
    "# Will there be any difference in the data type of the elements present in both the variables, list_ and\n",
    "# arra_list? If so then print the data types of each and every element present in both the variables, list_\n",
    "# and arra_list.\n"
   ]
  },
  {
   "cell_type": "code",
   "execution_count": 34,
   "id": "44508d2d-f9be-4c12-af12-74e80ec7da0d",
   "metadata": {},
   "outputs": [],
   "source": [
    "#Ans.\n",
    "list_ = [1,2,3,4,5]\n",
    "\n",
    "array_list = np.array(list_ , dtype = int)"
   ]
  },
  {
   "cell_type": "code",
   "execution_count": 35,
   "id": "43a511dc-b613-428c-96e6-413dbb39db48",
   "metadata": {},
   "outputs": [
    {
     "data": {
      "text/plain": [
       "array([1, 2, 3, 4, 5])"
      ]
     },
     "execution_count": 37,
     "metadata": {},
     "output_type": "execute_result"
    }
   ],
   "source": [
    "array_list"
   ]
  },
  {
   "cell_type": "code",
   "execution_count": 38,
   "id": "d477be31-4238-4324-b28a-b857f9d9a35b",
   "metadata": {},
   "outputs": [
    {
     "data": {
      "text/plain": [
       "[1, 2, 3, 4, 5]"
      ]
     },
     "execution_count": 38,
     "metadata": {},
     "output_type": "execute_result"
    }
   ],
   "source": [
    "list_"
   ]
  },
  {
   "cell_type": "code",
   "execution_count": 39,
   "id": "d2bdbbaa-3e2b-496f-a3cc-483a165ab7b4",
   "metadata": {},
   "outputs": [
    {
     "data": {
      "text/plain": [
       "numpy.ndarray"
      ]
     },
     "execution_count": 39,
     "metadata": {},
     "output_type": "execute_result"
    }
   ],
   "source": [
    "type(array_list)"
   ]
  },
  {
   "cell_type": "code",
   "execution_count": 40,
   "id": "17928549-227b-4b06-8605-ac0975433a01",
   "metadata": {},
   "outputs": [
    {
     "data": {
      "text/plain": [
       "list"
      ]
     },
     "execution_count": 40,
     "metadata": {},
     "output_type": "execute_result"
    }
   ],
   "source": [
    "type(list_)"
   ]
  },
  {
   "cell_type": "code",
   "execution_count": 41,
   "id": "acc96267-54ec-477d-ae25-e698413e9b44",
   "metadata": {},
   "outputs": [
    {
     "data": {
      "text/plain": [
       "dtype('int64')"
      ]
     },
     "execution_count": 41,
     "metadata": {},
     "output_type": "execute_result"
    }
   ],
   "source": [
    "array_list.dtype"
   ]
  },
  {
   "cell_type": "code",
   "execution_count": 43,
   "id": "c34d2f34-a53d-4098-86ff-0fe170c07175",
   "metadata": {},
   "outputs": [],
   "source": [
    "# Q4. Write a code to find the following characteristics of variable, num_array:\n",
    "# (i) shape\n",
    "# (ii) size"
   ]
  },
  {
   "cell_type": "code",
   "execution_count": 44,
   "id": "94fe145c-7ea6-4ba4-9a20-f801fc566ead",
   "metadata": {},
   "outputs": [],
   "source": [
    "# Ans.\n",
    "\n",
    "num_list = [ [ 1 , 2 , 3 ] , [ 4 , 5 , 6 ] ]\n",
    "num_array = np.array(num_list)"
   ]
  },
  {
   "cell_type": "code",
   "execution_count": 45,
   "id": "27728180-682e-4f1f-a351-5b003ebdc67a",
   "metadata": {},
   "outputs": [
    {
     "data": {
      "text/plain": [
       "array([[1, 2, 3],\n",
       "       [4, 5, 6]])"
      ]
     },
     "execution_count": 45,
     "metadata": {},
     "output_type": "execute_result"
    }
   ],
   "source": [
    "num_array"
   ]
  },
  {
   "cell_type": "code",
   "execution_count": 46,
   "id": "aef61b04-2fae-4450-a47e-0c334858308f",
   "metadata": {},
   "outputs": [
    {
     "data": {
      "text/plain": [
       "(2, 3)"
      ]
     },
     "execution_count": 46,
     "metadata": {},
     "output_type": "execute_result"
    }
   ],
   "source": [
    "num_array.shape"
   ]
  },
  {
   "cell_type": "code",
   "execution_count": 47,
   "id": "98d79d7a-0aec-409f-8316-e9308d07c275",
   "metadata": {},
   "outputs": [
    {
     "data": {
      "text/plain": [
       "6"
      ]
     },
     "execution_count": 47,
     "metadata": {},
     "output_type": "execute_result"
    }
   ],
   "source": [
    "num_array.size"
   ]
  },
  {
   "cell_type": "code",
   "execution_count": 48,
   "id": "1c9b6ade-0f91-4e94-8472-176ff9898d3e",
   "metadata": {},
   "outputs": [],
   "source": [
    "# Q5. Write a code to create numpy array of 3*3 matrix containing zeros only, using a numpy array\n",
    "# creation function.\n",
    "# [Hint: The size of the array will be 9 and the shape will be (3,3).]"
   ]
  },
  {
   "cell_type": "code",
   "execution_count": 49,
   "id": "f1e3c28f-359d-4184-9a51-f15115205c65",
   "metadata": {},
   "outputs": [],
   "source": [
    "# Ans.\n",
    "\n",
    "numpy_array= np.zeros((3,3))"
   ]
  },
  {
   "cell_type": "code",
   "execution_count": 50,
   "id": "a2f9616e-6bb1-4f43-b0f6-3ccd022beadb",
   "metadata": {},
   "outputs": [
    {
     "data": {
      "text/plain": [
       "array([[0., 0., 0.],\n",
       "       [0., 0., 0.],\n",
       "       [0., 0., 0.]])"
      ]
     },
     "execution_count": 50,
     "metadata": {},
     "output_type": "execute_result"
    }
   ],
   "source": [
    "numpy_array"
   ]
  },
  {
   "cell_type": "code",
   "execution_count": 51,
   "id": "2977f494-ca82-4709-bdcf-2f4c68aa0551",
   "metadata": {},
   "outputs": [
    {
     "data": {
      "text/plain": [
       "9"
      ]
     },
     "execution_count": 51,
     "metadata": {},
     "output_type": "execute_result"
    }
   ],
   "source": [
    "numpy_array.size"
   ]
  },
  {
   "cell_type": "code",
   "execution_count": 52,
   "id": "41c60b8c-373a-4667-808e-aa2fd26b3bf0",
   "metadata": {},
   "outputs": [
    {
     "data": {
      "text/plain": [
       "(3, 3)"
      ]
     },
     "execution_count": 52,
     "metadata": {},
     "output_type": "execute_result"
    }
   ],
   "source": [
    "numpy_array.shape"
   ]
  },
  {
   "cell_type": "code",
   "execution_count": 53,
   "id": "fc785f29-094d-453a-9083-b46e1468bdd0",
   "metadata": {},
   "outputs": [],
   "source": [
    "# Q6. Create an identity matrix of shape (5,5) using numpy functions?\n",
    "# [Hint: An identity matrix is a matrix containing 1 diagonally and other elements will be 0.]"
   ]
  },
  {
   "cell_type": "code",
   "execution_count": 58,
   "id": "b84c5cc6-d004-4453-bebb-f7adfd6e74d1",
   "metadata": {},
   "outputs": [],
   "source": [
    "# Ans.\n",
    "identity_matrix = np.eye(5)"
   ]
  },
  {
   "cell_type": "code",
   "execution_count": 59,
   "id": "7440f20c-1c33-43cf-8766-1ab7235d3c3e",
   "metadata": {},
   "outputs": [
    {
     "data": {
      "text/plain": [
       "array([[1., 0., 0., 0., 0.],\n",
       "       [0., 1., 0., 0., 0.],\n",
       "       [0., 0., 1., 0., 0.],\n",
       "       [0., 0., 0., 1., 0.],\n",
       "       [0., 0., 0., 0., 1.]])"
      ]
     },
     "execution_count": 59,
     "metadata": {},
     "output_type": "execute_result"
    }
   ],
   "source": [
    "identity_matrix"
   ]
  },
  {
   "cell_type": "code",
   "execution_count": 60,
   "id": "4d9ea50a-96bf-42ff-b4b5-444c970dd9b3",
   "metadata": {},
   "outputs": [
    {
     "data": {
      "text/plain": [
       "(5, 5)"
      ]
     },
     "execution_count": 60,
     "metadata": {},
     "output_type": "execute_result"
    }
   ],
   "source": [
    "identity_matrix.shape"
   ]
  },
  {
   "cell_type": "code",
   "execution_count": null,
   "id": "9050a256-2041-45e5-b169-287ad75df064",
   "metadata": {},
   "outputs": [],
   "source": []
  }
 ],
 "metadata": {
  "kernelspec": {
   "display_name": "Python 3 (ipykernel)",
   "language": "python",
   "name": "python3"
  },
  "language_info": {
   "codemirror_mode": {
    "name": "ipython",
    "version": 3
   },
   "file_extension": ".py",
   "mimetype": "text/x-python",
   "name": "python",
   "nbconvert_exporter": "python",
   "pygments_lexer": "ipython3",
   "version": "3.10.8"
  }
 },
 "nbformat": 4,
 "nbformat_minor": 5
}
