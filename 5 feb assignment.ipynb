{
 "cells": [
  {
   "cell_type": "code",
   "execution_count": 1,
   "id": "77325e53-97b7-4115-a875-176e10acedf5",
   "metadata": {},
   "outputs": [],
   "source": [
    "### Q1. Explain Class and Object with respect to Object-Oriented Programming. Give a suitable example.\n",
    "### Ans.\n",
    "\n",
    "# 1.A Class in object oriented programming is a blueprint or prototype that defines the variables and the methods (functions) common to all Java Objects of a certain kind.\n",
    "# 2.An object in OOPS is a specimen of a class.Software objects are often used to model real-world objects you find in everyday life.\n",
    "\n",
    "\n",
    "class ashish:\n",
    "    \n",
    "    def welcome_msg(self):\n",
    "        print(\"Good Morning\")"
   ]
  },
  {
   "cell_type": "code",
   "execution_count": 2,
   "id": "6df1b0d8-0a43-4ec3-af5d-4f0a325d62f9",
   "metadata": {},
   "outputs": [],
   "source": [
    "a = ashish()"
   ]
  },
  {
   "cell_type": "code",
   "execution_count": 4,
   "id": "0c33354e-5a0c-45f9-b0b4-4b40f9724257",
   "metadata": {},
   "outputs": [
    {
     "name": "stdout",
     "output_type": "stream",
     "text": [
      "<class '__main__.ashish'>\n"
     ]
    }
   ],
   "source": [
    "print(type(a))"
   ]
  },
  {
   "cell_type": "code",
   "execution_count": 6,
   "id": "bbefe313-1729-482b-984f-f5fc2803383c",
   "metadata": {},
   "outputs": [
    {
     "name": "stdout",
     "output_type": "stream",
     "text": [
      "Good Morning\n"
     ]
    }
   ],
   "source": [
    "a.welcome_msg()"
   ]
  },
  {
   "cell_type": "code",
   "execution_count": null,
   "id": "3557f389-c185-4db2-9214-4ab6eb24afce",
   "metadata": {},
   "outputs": [],
   "source": [
    "### Q2. Name the four pillars of OOPs.\n",
    "### Ans. \n",
    "\"\"\"The four pillars for OOP are:\n",
    "         1. Abstraction.\n",
    "         2. Encapsulation.\n",
    "         3. Inheritance.\n",
    "         4. Polymorphism.\"\"\""
   ]
  },
  {
   "cell_type": "code",
   "execution_count": 7,
   "id": "440282a1-3bdb-4d26-b8f6-45903f541a00",
   "metadata": {},
   "outputs": [],
   "source": [
    "### Q3. Explain why the __init__() function is used. Give a suitable example.\n",
    "### Ans.\n",
    "\n",
    "''' __init__ is a reseved method in python classes. \n",
    "It is called as a constructor in object oriented terminology. \n",
    "This method is called when an object is created from a class and \n",
    "it allows the class to initialize the attributes of the class.'''\n",
    "\n",
    "class pwskills :\n",
    "    \n",
    "    def __init__(self,phone_number,email_id,student_id):\n",
    "        self.phone_number = phone_number\n",
    "        self.email_id = email_id\n",
    "        self.student_id = student_id\n",
    "    def return_student_details(self):\n",
    "        return self.student_id,self.email_id,self.phone_number"
   ]
  },
  {
   "cell_type": "code",
   "execution_count": 8,
   "id": "4a32dfbf-178c-433f-890c-e1f31c0e94c8",
   "metadata": {},
   "outputs": [],
   "source": [
    "ashish  = pwskills(25648,\"as@gmail.com\",522)"
   ]
  },
  {
   "cell_type": "code",
   "execution_count": 9,
   "id": "472b8563-604b-4b14-aa87-a2a87104d3ef",
   "metadata": {},
   "outputs": [
    {
     "data": {
      "text/plain": [
       "(522, 'as@gmail.com', 25648)"
      ]
     },
     "execution_count": 9,
     "metadata": {},
     "output_type": "execute_result"
    }
   ],
   "source": [
    "ashish.return_student_details()"
   ]
  },
  {
   "cell_type": "code",
   "execution_count": 11,
   "id": "41d0a64e-b960-40a6-aa45-e0cd53559cf3",
   "metadata": {},
   "outputs": [],
   "source": [
    "### Q4. Why self is used in OOPs?\n",
    "### Ans.\n",
    "\n",
    "\"\"\"The self variable is used to represent the instance of the class\n",
    "which is often used in object-oriented programming. \n",
    "It works as a reference to the object.\n",
    "Python uses the self parameter to refer to instance attributes and methods of the class.\"\"\""
   ]
  },
  {
   "cell_type": "code",
   "execution_count": null,
   "id": "11650ff4-18d2-4cda-82b6-4dff6e0a8059",
   "metadata": {},
   "outputs": [],
   "source": [
    "### Q5. What is inheritance? Give an example for each type of inheritance.\n",
    "### Ans.\n",
    "\n",
    "\"\"\"Inheritance is a mechanism in which one class acquires the property of another class.\"\"\"\n",
    "\n",
    "\"\"\"There are five types of inheritances:\n",
    "1.Single Inheritance.\n",
    "2.Multiple Inheritance.\n",
    "3.Multilevel Inheritance.\n",
    "4.Hierarchical Inheritance.\n",
    "5.Hybrid Inheritance.\"\"\""
   ]
  },
  {
   "cell_type": "code",
   "execution_count": 1,
   "id": "f613e5d1-063c-4417-90e3-1b606896cc1c",
   "metadata": {},
   "outputs": [],
   "source": [
    "# 1.Single Inheritance.\n",
    "class test:\n",
    "    \n",
    "    def test_meth(self):\n",
    "        return \"this is my first class\""
   ]
  },
  {
   "cell_type": "code",
   "execution_count": 2,
   "id": "42e1ada5-f55c-4384-9a92-93bdc78654bd",
   "metadata": {},
   "outputs": [],
   "source": [
    "class child_test(test):\n",
    "    pass"
   ]
  },
  {
   "cell_type": "code",
   "execution_count": 3,
   "id": "2c8aee1d-0614-4cfa-a9a7-1111ac670eef",
   "metadata": {},
   "outputs": [],
   "source": [
    "child_test_obj = child_test()"
   ]
  },
  {
   "cell_type": "code",
   "execution_count": 4,
   "id": "7bbffc5f-4e26-46da-ad8a-6889241a58be",
   "metadata": {},
   "outputs": [
    {
     "data": {
      "text/plain": [
       "'this is my first class'"
      ]
     },
     "execution_count": 4,
     "metadata": {},
     "output_type": "execute_result"
    }
   ],
   "source": [
    "child_test_obj.test_meth()"
   ]
  },
  {
   "cell_type": "code",
   "execution_count": 5,
   "id": "02135e53-8df9-43ce-9f07-1ae77da0eb2f",
   "metadata": {},
   "outputs": [],
   "source": [
    "# 2.Multiple Inheritance.\n",
    "\n",
    "class class1 :\n",
    "    \n",
    "    def test_class1(self) :\n",
    "        return \"this is a class1\""
   ]
  },
  {
   "cell_type": "code",
   "execution_count": 6,
   "id": "a43a30f0-3e37-47f1-a5e1-47349ff58ab8",
   "metadata": {},
   "outputs": [],
   "source": [
    "class class2:\n",
    "    \n",
    "    def test_class2(self) :\n",
    "        return \"this is a class2\""
   ]
  },
  {
   "cell_type": "code",
   "execution_count": 7,
   "id": "f9e21e70-7a26-4bea-8394-c0d7a0587d78",
   "metadata": {},
   "outputs": [],
   "source": [
    "class class3(class1,class2) :\n",
    "    pass"
   ]
  },
  {
   "cell_type": "code",
   "execution_count": 8,
   "id": "d6332d64-c5f4-485d-9d56-0d3ed7a4c397",
   "metadata": {},
   "outputs": [],
   "source": [
    "obj_class3 = class3()"
   ]
  },
  {
   "cell_type": "code",
   "execution_count": 9,
   "id": "29328e01-92fc-42c5-9a30-bb50ee02c69a",
   "metadata": {},
   "outputs": [
    {
     "data": {
      "text/plain": [
       "'this is a class1'"
      ]
     },
     "execution_count": 9,
     "metadata": {},
     "output_type": "execute_result"
    }
   ],
   "source": [
    "obj_class3.test_class1()"
   ]
  },
  {
   "cell_type": "code",
   "execution_count": 10,
   "id": "46114c9c-bb9f-462e-9408-6c760a4cedff",
   "metadata": {},
   "outputs": [
    {
     "data": {
      "text/plain": [
       "'this is a class2'"
      ]
     },
     "execution_count": 10,
     "metadata": {},
     "output_type": "execute_result"
    }
   ],
   "source": [
    "obj_class3.test_class2()"
   ]
  },
  {
   "cell_type": "code",
   "execution_count": 11,
   "id": "cbe75d74-b53a-49cf-bd52-da32a0ed48fa",
   "metadata": {},
   "outputs": [],
   "source": [
    "# 3.Multilevel Inheritance.\n",
    "\n",
    "class class1 :\n",
    "    def test_class1(self) :\n",
    "        return \"this is a meth of class1\""
   ]
  },
  {
   "cell_type": "code",
   "execution_count": 12,
   "id": "ab0fcf15-3549-417d-8856-87354c68b60d",
   "metadata": {},
   "outputs": [],
   "source": [
    "class class2(class1) :\n",
    "    def test_class2(self) :\n",
    "        return \"this is a meth of class2\""
   ]
  },
  {
   "cell_type": "code",
   "execution_count": 13,
   "id": "64ded074-5465-4b1b-9b11-a0405205116f",
   "metadata": {},
   "outputs": [],
   "source": [
    "class class3(class2) :\n",
    "    pass"
   ]
  },
  {
   "cell_type": "code",
   "execution_count": 14,
   "id": "c5bff84e-f8db-4c50-af5a-6d9c3aab18b7",
   "metadata": {},
   "outputs": [],
   "source": [
    "obj_class3 = class3()"
   ]
  },
  {
   "cell_type": "code",
   "execution_count": 15,
   "id": "f94492b9-0956-400f-b5d5-2e1ffc0387b2",
   "metadata": {},
   "outputs": [
    {
     "data": {
      "text/plain": [
       "'this is a meth of class2'"
      ]
     },
     "execution_count": 15,
     "metadata": {},
     "output_type": "execute_result"
    }
   ],
   "source": [
    "obj_class3.test_class2()"
   ]
  },
  {
   "cell_type": "code",
   "execution_count": 16,
   "id": "c25f184e-96d1-40be-bf82-e4421dd7836b",
   "metadata": {},
   "outputs": [
    {
     "data": {
      "text/plain": [
       "'this is a meth of class1'"
      ]
     },
     "execution_count": 16,
     "metadata": {},
     "output_type": "execute_result"
    }
   ],
   "source": [
    "obj_class3.test_class1()"
   ]
  },
  {
   "cell_type": "code",
   "execution_count": 17,
   "id": "1a1fc3e5-904c-4649-8493-dbc395505ca5",
   "metadata": {},
   "outputs": [],
   "source": [
    "# 4.Hierarchical Inheritance.\n",
    "\n",
    "class class1 :\n",
    "    def test_class1(self) :\n",
    "        return \"this is a meth of class1\""
   ]
  },
  {
   "cell_type": "code",
   "execution_count": 22,
   "id": "aa38972e-fe13-4023-b490-887a9f5a20bb",
   "metadata": {},
   "outputs": [],
   "source": [
    "class class2(class1) :\n",
    "    def test_class2(self) :\n",
    "        return \"this is a meth of class2\""
   ]
  },
  {
   "cell_type": "code",
   "execution_count": 23,
   "id": "b7815bb9-4397-492c-9409-80a1f4ecf06b",
   "metadata": {},
   "outputs": [],
   "source": [
    "class class3(class1) :\n",
    "    def test_class3(self) :\n",
    "        return \"this is a meth of class3\""
   ]
  },
  {
   "cell_type": "code",
   "execution_count": 24,
   "id": "3514616a-d5d2-4a2a-8c9d-bbead33347b1",
   "metadata": {},
   "outputs": [],
   "source": [
    "class class4(class1) :\n",
    "    def test_class4(self) :\n",
    "        return \"this is a meth of class4\""
   ]
  },
  {
   "cell_type": "code",
   "execution_count": 27,
   "id": "3087e02a-9fae-4ed7-889f-1e4945f5f49b",
   "metadata": {},
   "outputs": [],
   "source": [
    "obj_class2 = class2()"
   ]
  },
  {
   "cell_type": "code",
   "execution_count": 28,
   "id": "34b9a99e-b6e6-4e9e-a0ad-188d52a0adf9",
   "metadata": {},
   "outputs": [
    {
     "data": {
      "text/plain": [
       "'this is a meth of class1'"
      ]
     },
     "execution_count": 28,
     "metadata": {},
     "output_type": "execute_result"
    }
   ],
   "source": [
    "obj_class2.test_class1()"
   ]
  },
  {
   "cell_type": "code",
   "execution_count": 29,
   "id": "1191472b-7d3e-43d3-9532-bfc5e166e312",
   "metadata": {},
   "outputs": [],
   "source": [
    "obj_class3 = class3()"
   ]
  },
  {
   "cell_type": "code",
   "execution_count": 31,
   "id": "be76146c-9745-49ec-8a08-9ba55898756f",
   "metadata": {},
   "outputs": [
    {
     "data": {
      "text/plain": [
       "'this is a meth of class1'"
      ]
     },
     "execution_count": 31,
     "metadata": {},
     "output_type": "execute_result"
    }
   ],
   "source": [
    "obj_class3.test_class1()"
   ]
  },
  {
   "cell_type": "code",
   "execution_count": 32,
   "id": "bf8fd98e-6737-4c5e-8777-51ad19d94229",
   "metadata": {},
   "outputs": [],
   "source": [
    "obj_class4 = class4()"
   ]
  },
  {
   "cell_type": "code",
   "execution_count": 33,
   "id": "0f880e2d-e179-40a0-b27d-0fc2ff3c4b2c",
   "metadata": {},
   "outputs": [
    {
     "data": {
      "text/plain": [
       "'this is a meth of class1'"
      ]
     },
     "execution_count": 33,
     "metadata": {},
     "output_type": "execute_result"
    }
   ],
   "source": [
    "obj_class4.test_class1()"
   ]
  },
  {
   "cell_type": "code",
   "execution_count": 36,
   "id": "c14dccb5-f071-4cfa-a041-3258889c8fcd",
   "metadata": {},
   "outputs": [],
   "source": [
    "# 5.Hybrid Inheritance.\n",
    "\n",
    "class class1 :\n",
    "    def test_class1(self) :\n",
    "        return \"this is a meth of class1\""
   ]
  },
  {
   "cell_type": "code",
   "execution_count": 37,
   "id": "515fe3f4-e42c-41c8-a192-f9e99d4298cc",
   "metadata": {},
   "outputs": [],
   "source": [
    "class class2(class1) :\n",
    "    def test_class2(self) :\n",
    "        return \"this is a meth of class2\""
   ]
  },
  {
   "cell_type": "code",
   "execution_count": 38,
   "id": "a5bb146c-6ed2-4fe9-aa6f-e1fa88e267da",
   "metadata": {},
   "outputs": [],
   "source": [
    "class class3(class1) :\n",
    "    def test_class3(self) :\n",
    "        return \"this is a meth of class3\""
   ]
  },
  {
   "cell_type": "code",
   "execution_count": 39,
   "id": "2f9e3ca5-3c4d-4b01-baa0-e04d37a10af5",
   "metadata": {},
   "outputs": [],
   "source": [
    "class class4(class2,class3) :\n",
    "    def test_class4(self) :\n",
    "        return \"this is a meth of class4\""
   ]
  },
  {
   "cell_type": "code",
   "execution_count": 40,
   "id": "afb0ad96-27e9-49b8-8b03-3316922b8b16",
   "metadata": {},
   "outputs": [],
   "source": [
    "obj_class4 = class4()"
   ]
  },
  {
   "cell_type": "code",
   "execution_count": 41,
   "id": "256ef70e-ccce-400b-aced-f159a94dc2dd",
   "metadata": {},
   "outputs": [
    {
     "data": {
      "text/plain": [
       "'this is a meth of class3'"
      ]
     },
     "execution_count": 41,
     "metadata": {},
     "output_type": "execute_result"
    }
   ],
   "source": [
    "obj_class4.test_class3()"
   ]
  },
  {
   "cell_type": "code",
   "execution_count": 42,
   "id": "2b6e7971-78ac-4edf-b65e-6a1280af4fb8",
   "metadata": {},
   "outputs": [],
   "source": [
    "obj_class2 = class2()"
   ]
  },
  {
   "cell_type": "code",
   "execution_count": 43,
   "id": "98c597e4-0350-42d1-acb4-347906cb8964",
   "metadata": {},
   "outputs": [
    {
     "data": {
      "text/plain": [
       "'this is a meth of class1'"
      ]
     },
     "execution_count": 43,
     "metadata": {},
     "output_type": "execute_result"
    }
   ],
   "source": [
    "obj_class2.test_class1()"
   ]
  },
  {
   "cell_type": "code",
   "execution_count": null,
   "id": "ec31e814-4a9d-4712-a3e6-3a48677b0527",
   "metadata": {},
   "outputs": [],
   "source": []
  }
 ],
 "metadata": {
  "kernelspec": {
   "display_name": "Python 3 (ipykernel)",
   "language": "python",
   "name": "python3"
  },
  "language_info": {
   "codemirror_mode": {
    "name": "ipython",
    "version": 3
   },
   "file_extension": ".py",
   "mimetype": "text/x-python",
   "name": "python",
   "nbconvert_exporter": "python",
   "pygments_lexer": "ipython3",
   "version": "3.10.8"
  }
 },
 "nbformat": 4,
 "nbformat_minor": 5
}
