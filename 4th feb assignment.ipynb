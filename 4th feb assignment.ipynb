{
 "cells": [
  {
   "cell_type": "code",
   "execution_count": 1,
   "id": "a5e6ff9d-607a-4d39-968c-fcb07eb5ed72",
   "metadata": {},
   "outputs": [],
   "source": [
    "### Q1. Create a python program to sort the given list of tuples based on integer value using a lambda function.\n",
    "### [('Sachin Tendulkar', 34357), ('Ricky Ponting', 27483), ('Jack Kallis', 25534), ('Virat Kohli', 24936)]"
   ]
  },
  {
   "cell_type": "code",
   "execution_count": 2,
   "id": "25c6765b-dfc5-4ca1-a394-6b782f7e91ce",
   "metadata": {},
   "outputs": [],
   "source": [
    "l = [('Sachin Tendulkar', 34357), ('Ricky Ponting', 27483), ('Jack Kallis', 25534), ('Virat Kohli', 24936)]"
   ]
  },
  {
   "cell_type": "code",
   "execution_count": 11,
   "id": "d3c9b040-6e95-4dfa-9901-84b7fec00aa0",
   "metadata": {},
   "outputs": [
    {
     "name": "stdout",
     "output_type": "stream",
     "text": [
      "Sorting the List of Tuples:\n",
      "[('Virat Kohli', 24936), ('Jack Kallis', 25534), ('Ricky Ponting', 27483), ('Sachin Tendulkar', 34357)]\n"
     ]
    }
   ],
   "source": [
    "l.sort(key = lambda x: x[1])\n",
    "print(\"Sorting the List of Tuples:\")\n",
    "print(l)"
   ]
  },
  {
   "cell_type": "code",
   "execution_count": 13,
   "id": "2ba3a063-16eb-46a3-a674-60dfd45239b9",
   "metadata": {},
   "outputs": [],
   "source": [
    "### Q2. Write a Python Program to find the squares of all the numbers in the given list of integers using lambda and map functions.\n",
    "l= [1, 2, 3, 4, 5, 6, 7, 8, 9, 10]"
   ]
  },
  {
   "cell_type": "code",
   "execution_count": 17,
   "id": "60bdeddd-381e-4c9c-8830-14f2bfd1badf",
   "metadata": {},
   "outputs": [
    {
     "data": {
      "text/plain": [
       "[1, 4, 9, 16, 25, 36, 49, 64, 81, 100]"
      ]
     },
     "execution_count": 17,
     "metadata": {},
     "output_type": "execute_result"
    }
   ],
   "source": [
    "list(map(lambda x: x**2,l))"
   ]
  },
  {
   "cell_type": "code",
   "execution_count": 23,
   "id": "059cde2e-12c4-4da7-b327-946c1e5a6c8e",
   "metadata": {},
   "outputs": [
    {
     "data": {
      "text/plain": [
       "('1', '2', '3', '4', '5', '6', '7', '8', '9', '10')"
      ]
     },
     "execution_count": 23,
     "metadata": {},
     "output_type": "execute_result"
    }
   ],
   "source": [
    "### Q3. Write a python program to convert the given list of integers into a tuple of strings. Use map and lambda functions\n",
    "### Given String: [1, 2, 3, 4, 5, 6, 7, 8, 9, 10]\n",
    "### Expected output: ('1', '2', '3', '4', '5', '6', '7', '8', '9', '10')\n",
    "\n",
    "l = [1, 2, 3, 4, 5, 6, 7, 8, 9, 10]\n",
    "\n",
    "tuple(map(lambda x: str(x),l))"
   ]
  },
  {
   "cell_type": "code",
   "execution_count": 30,
   "id": "d0f42444-aecb-4f37-a833-ce30e3c0ccf8",
   "metadata": {},
   "outputs": [],
   "source": [
    "### Q4. Write a python program using reduce function to compute the product of a list containing numbers from 1 to 25.\n",
    "\n",
    "from functools import reduce\n",
    "\n",
    "l= list(range(1,26))\n"
   ]
  },
  {
   "cell_type": "code",
   "execution_count": 31,
   "id": "9f95727f-15c2-448f-bafe-f4284dd5214a",
   "metadata": {},
   "outputs": [
    {
     "data": {
      "text/plain": [
       "325"
      ]
     },
     "execution_count": 31,
     "metadata": {},
     "output_type": "execute_result"
    }
   ],
   "source": [
    "reduce(lambda x,y : x+y, l)"
   ]
  },
  {
   "cell_type": "code",
   "execution_count": 48,
   "id": "9ebab1c5-62c9-4b94-beb1-555077a88192",
   "metadata": {},
   "outputs": [
    {
     "name": "stdout",
     "output_type": "stream",
     "text": [
      "[2, 6, 60, 90, 120, 46]\n",
      "divisible by 2 in given list\n"
     ]
    }
   ],
   "source": [
    "### Q5. Write a python program to filter the numbers in a given list that are divisible by 2 and 3 using the filter function.\n",
    "\n",
    "l=[2, 3, 6, 9, 27, 60, 90, 120, 55, 46]\n",
    "\n",
    "print(list(filter(lambda x : x %2 ==0 , l)))\n",
    "print(\"divisible by 2 in given list\")\n"
   ]
  },
  {
   "cell_type": "code",
   "execution_count": 49,
   "id": "a2c1cbc7-f05a-4785-becf-7192fd08f415",
   "metadata": {},
   "outputs": [
    {
     "name": "stdout",
     "output_type": "stream",
     "text": [
      "[3, 6, 9, 27, 60, 90, 120]\n",
      "divisible by 3 in given list\n"
     ]
    }
   ],
   "source": [
    "print(list(filter(lambda x : x %3 ==0 , l)))\n",
    "print(\"divisible by 3 in given list\")"
   ]
  },
  {
   "cell_type": "code",
   "execution_count": 51,
   "id": "fae4eeb7-041a-4867-9616-5724f1eed161",
   "metadata": {},
   "outputs": [
    {
     "name": "stdout",
     "output_type": "stream",
     "text": [
      "['php', 'aba', 'radar', 'level']\n",
      "List is palindromes\n"
     ]
    }
   ],
   "source": [
    "### Q6. Write a python program to find palindromes in the given list of strings using lambda and filter function.\n",
    "\n",
    "l = ['python', 'php', 'aba', 'radar', 'level']\n",
    "\n",
    "print(list(filter(lambda x :(x == \"\".join(reversed(x))) , l)))\n",
    "print(\"List is palindromes\")"
   ]
  },
  {
   "cell_type": "code",
   "execution_count": null,
   "id": "ba8d09e8-5633-4a4b-9fe8-ec0e99d913e5",
   "metadata": {},
   "outputs": [],
   "source": []
  }
 ],
 "metadata": {
  "kernelspec": {
   "display_name": "Python 3 (ipykernel)",
   "language": "python",
   "name": "python3"
  },
  "language_info": {
   "codemirror_mode": {
    "name": "ipython",
    "version": 3
   },
   "file_extension": ".py",
   "mimetype": "text/x-python",
   "name": "python",
   "nbconvert_exporter": "python",
   "pygments_lexer": "ipython3",
   "version": "3.10.8"
  }
 },
 "nbformat": 4,
 "nbformat_minor": 5
}
