{
 "cells": [
  {
   "cell_type": "code",
   "execution_count": null,
   "id": "88a858fc-0c51-407d-baeb-ccc7d284d3ba",
   "metadata": {},
   "outputs": [],
   "source": [
    "# Q.1 Explain why we have to use the Exception class while creating a Custom Exception.\n",
    "# Ans.\n",
    "''' When creating a custom exception in Python, it's good practice to inherit from the built-in Exception class.\n",
    "This is because the Exception class is the base class for all exceptions in Python, and \n",
    "it provides a set of useful properties and methods that can be used to handle exceptions.\n",
    "Inheriting from the Exception class allows your custom exception to inherit all of these properties and methods '''\n",
    "\n",
    "''' For example, your custom exception will inherit the str() method, which is used to convert the exception to a string representation. \n",
    "This makes it easier to print or log the exception when it's raised.'''"
   ]
  },
  {
   "cell_type": "code",
   "execution_count": 37,
   "id": "d6468ef4-1028-4d3c-9b82-001395531347",
   "metadata": {},
   "outputs": [
    {
     "name": "stdin",
     "output_type": "stream",
     "text": [
      "enter your age 55\n"
     ]
    }
   ],
   "source": [
    "age = int(input(\"enter your age\"))"
   ]
  },
  {
   "cell_type": "code",
   "execution_count": 38,
   "id": "6aab02b1-4a0e-4e12-a1ae-7f1015316ec0",
   "metadata": {},
   "outputs": [],
   "source": [
    "class validatesage(Exception):\n",
    "    \n",
    "    def __init__(self , msg):\n",
    "        self.msg = msg"
   ]
  },
  {
   "cell_type": "code",
   "execution_count": 39,
   "id": "44bff495-fc65-4bf1-a2e4-4b6304ce1ff2",
   "metadata": {},
   "outputs": [],
   "source": [
    "def validateage(age):\n",
    "    if age < 0 :\n",
    "        raise validatesage(\"entered age is nagative\")\n",
    "    elif age > 200 :\n",
    "        raise validatesage(\"entered age is very very high \" )\n",
    "    else :\n",
    "        print(\"age is valid\")"
   ]
  },
  {
   "cell_type": "code",
   "execution_count": 40,
   "id": "7afd9afb-c459-439c-8d1e-4d67e80f44c3",
   "metadata": {},
   "outputs": [
    {
     "name": "stdin",
     "output_type": "stream",
     "text": [
      "enter your age 55\n"
     ]
    },
    {
     "name": "stdout",
     "output_type": "stream",
     "text": [
      "age is valid\n"
     ]
    }
   ],
   "source": [
    "try :\n",
    "    age  = int(input(\"enter your age\" ))\n",
    "    validateage(age)\n",
    "except validatesage as e :\n",
    "    print(e)"
   ]
  },
  {
   "cell_type": "code",
   "execution_count": 1,
   "id": "df9a691e-e5bc-4c08-ab02-f264f213bf08",
   "metadata": {},
   "outputs": [
    {
     "name": "stdout",
     "output_type": "stream",
     "text": [
      "The Hierarchy for inbuilt exceptions is: \n",
      " BaseException\n",
      "--- Exception\n",
      "------ TypeError\n",
      "--------- FloatOperation\n",
      "--------- MultipartConversionError\n",
      "------ StopAsyncIteration\n",
      "------ StopIteration\n",
      "------ ImportError\n",
      "--------- ModuleNotFoundError\n",
      "--------- ZipImportError\n",
      "------ OSError\n",
      "--------- ConnectionError\n",
      "------------ BrokenPipeError\n",
      "------------ ConnectionAbortedError\n",
      "------------ ConnectionRefusedError\n",
      "------------ ConnectionResetError\n",
      "--------------- RemoteDisconnected\n",
      "--------- BlockingIOError\n",
      "--------- ChildProcessError\n",
      "--------- FileExistsError\n",
      "--------- FileNotFoundError\n",
      "--------- IsADirectoryError\n",
      "--------- NotADirectoryError\n",
      "--------- InterruptedError\n",
      "------------ InterruptedSystemCall\n",
      "--------- PermissionError\n",
      "--------- ProcessLookupError\n",
      "--------- TimeoutError\n",
      "--------- UnsupportedOperation\n",
      "--------- itimer_error\n",
      "--------- herror\n",
      "--------- gaierror\n",
      "--------- SSLError\n",
      "------------ SSLCertVerificationError\n",
      "------------ SSLZeroReturnError\n",
      "------------ SSLWantWriteError\n",
      "------------ SSLWantReadError\n",
      "------------ SSLSyscallError\n",
      "------------ SSLEOFError\n",
      "--------- Error\n",
      "------------ SameFileError\n",
      "--------- SpecialFileError\n",
      "--------- ExecError\n",
      "--------- ReadError\n",
      "--------- URLError\n",
      "------------ HTTPError\n",
      "------------ ContentTooShortError\n",
      "--------- BadGzipFile\n",
      "------ EOFError\n",
      "--------- IncompleteReadError\n",
      "------ RuntimeError\n",
      "--------- RecursionError\n",
      "--------- NotImplementedError\n",
      "------------ ZMQVersionError\n",
      "------------ StdinNotImplementedError\n",
      "--------- _DeadlockError\n",
      "--------- BrokenBarrierError\n",
      "--------- BrokenExecutor\n",
      "------------ BrokenThreadPool\n",
      "--------- SendfileNotAvailableError\n",
      "--------- ExtractionError\n",
      "--------- VariableError\n",
      "------ NameError\n",
      "--------- UnboundLocalError\n",
      "------ AttributeError\n",
      "--------- FrozenInstanceError\n",
      "------ SyntaxError\n",
      "--------- IndentationError\n",
      "------------ TabError\n",
      "------ LookupError\n",
      "--------- IndexError\n",
      "--------- KeyError\n",
      "------------ NoSuchKernel\n",
      "------------ UnknownBackend\n",
      "--------- CodecRegistryError\n",
      "------ ValueError\n",
      "--------- UnicodeError\n",
      "------------ UnicodeEncodeError\n",
      "------------ UnicodeDecodeError\n",
      "------------ UnicodeTranslateError\n",
      "--------- UnsupportedOperation\n",
      "--------- JSONDecodeError\n",
      "--------- SSLCertVerificationError\n",
      "--------- Error\n",
      "--------- UnsupportedDigestmodError\n",
      "--------- IllegalMonthError\n",
      "--------- IllegalWeekdayError\n",
      "--------- ParserError\n",
      "--------- ClassNotFound\n",
      "--------- ClipboardEmpty\n",
      "--------- MessageDefect\n",
      "------------ NoBoundaryInMultipartDefect\n",
      "------------ StartBoundaryNotFoundDefect\n",
      "------------ CloseBoundaryNotFoundDefect\n",
      "------------ FirstHeaderLineIsContinuationDefect\n",
      "------------ MisplacedEnvelopeHeaderDefect\n",
      "------------ MissingHeaderBodySeparatorDefect\n",
      "------------ MultipartInvariantViolationDefect\n",
      "------------ InvalidMultipartContentTransferEncodingDefect\n",
      "------------ UndecodableBytesDefect\n",
      "------------ InvalidBase64PaddingDefect\n",
      "------------ InvalidBase64CharactersDefect\n",
      "------------ InvalidBase64LengthDefect\n",
      "------------ HeaderDefect\n",
      "--------------- InvalidHeaderDefect\n",
      "--------------- HeaderMissingRequiredValue\n",
      "--------------- NonPrintableDefect\n",
      "--------------- ObsoleteHeaderDefect\n",
      "--------------- NonASCIILocalPartDefect\n",
      "--------------- InvalidDateDefect\n",
      "--------- MacroToEdit\n",
      "--------- InvalidFileException\n",
      "--------- UnequalIterablesError\n",
      "--------- InvalidVersion\n",
      "--------- _InvalidELFFileHeader\n",
      "--------- InvalidWheelFilename\n",
      "--------- InvalidSdistFilename\n",
      "--------- InvalidSpecifier\n",
      "--------- InvalidMarker\n",
      "--------- UndefinedComparison\n",
      "--------- UndefinedEnvironmentName\n",
      "--------- InvalidRequirement\n",
      "------------ RequirementParseError\n",
      "--------- InvalidVersion\n",
      "------ AssertionError\n",
      "------ ArithmeticError\n",
      "--------- FloatingPointError\n",
      "--------- OverflowError\n",
      "--------- ZeroDivisionError\n",
      "------------ DivisionByZero\n",
      "------------ DivisionUndefined\n",
      "--------- DecimalException\n",
      "------------ Clamped\n",
      "------------ Rounded\n",
      "--------------- Underflow\n",
      "--------------- Overflow\n",
      "------------ Inexact\n",
      "--------------- Underflow\n",
      "--------------- Overflow\n",
      "------------ Subnormal\n",
      "--------------- Underflow\n",
      "------------ DivisionByZero\n",
      "------------ FloatOperation\n",
      "------------ InvalidOperation\n",
      "--------------- ConversionSyntax\n",
      "--------------- DivisionImpossible\n",
      "--------------- DivisionUndefined\n",
      "--------------- InvalidContext\n",
      "------ SystemError\n",
      "--------- CodecRegistryError\n",
      "------ ReferenceError\n",
      "------ MemoryError\n",
      "------ BufferError\n",
      "------ Warning\n",
      "--------- UserWarning\n",
      "------------ GetPassWarning\n",
      "------------ FormatterWarning\n",
      "--------- EncodingWarning\n",
      "--------- DeprecationWarning\n",
      "------------ ProvisionalWarning\n",
      "--------- PendingDeprecationWarning\n",
      "--------- SyntaxWarning\n",
      "--------- RuntimeWarning\n",
      "------------ ProactorSelectorThreadWarning\n",
      "------------ UnknownTimezoneWarning\n",
      "------------ PEP440Warning\n",
      "--------- FutureWarning\n",
      "------------ ProvisionalCompleterWarning\n",
      "--------- ImportWarning\n",
      "--------- UnicodeWarning\n",
      "--------- BytesWarning\n",
      "--------- ResourceWarning\n",
      "--------- DeprecatedTzFormatWarning\n",
      "--------- PkgResourcesDeprecationWarning\n",
      "------ _OptionError\n",
      "------ _Error\n",
      "------ error\n",
      "------ Verbose\n",
      "------ Error\n",
      "------ SubprocessError\n",
      "--------- CalledProcessError\n",
      "--------- TimeoutExpired\n",
      "------ TokenError\n",
      "------ StopTokenizing\n",
      "------ ClassFoundException\n",
      "------ EndOfBlock\n",
      "------ TraitError\n",
      "------ Error\n",
      "------ Error\n",
      "--------- CancelledError\n",
      "--------- TimeoutError\n",
      "--------- InvalidStateError\n",
      "------ _GiveupOnSendfile\n",
      "------ error\n",
      "------ Incomplete\n",
      "------ TimeoutError\n",
      "------ InvalidStateError\n",
      "------ LimitOverrunError\n",
      "------ QueueEmpty\n",
      "------ QueueFull\n",
      "------ Empty\n",
      "------ Full\n",
      "------ ArgumentError\n",
      "------ ZMQBaseError\n",
      "--------- ZMQError\n",
      "------------ ContextTerminated\n",
      "------------ Again\n",
      "------------ InterruptedSystemCall\n",
      "--------- ZMQBindError\n",
      "--------- NotDone\n",
      "------ PickleError\n",
      "--------- PicklingError\n",
      "--------- UnpicklingError\n",
      "------ _Stop\n",
      "------ ArgumentError\n",
      "------ ArgumentTypeError\n",
      "------ ConfigError\n",
      "--------- ConfigLoaderError\n",
      "------------ ArgumentError\n",
      "--------- ConfigFileNotFound\n",
      "------ ConfigurableError\n",
      "--------- MultipleInstanceError\n",
      "------ ApplicationError\n",
      "------ error\n",
      "------ TimeoutError\n",
      "------ error\n",
      "------ ReturnValueIgnoredError\n",
      "------ KeyReuseError\n",
      "------ UnknownKeyError\n",
      "------ LeakedCallbackError\n",
      "------ BadYieldError\n",
      "------ ReturnValueIgnoredError\n",
      "------ Return\n",
      "------ InvalidPortNumber\n",
      "------ error\n",
      "------ LZMAError\n",
      "------ RegistryError\n",
      "------ _GiveupOnFastCopy\n",
      "------ Error\n",
      "--------- NoSectionError\n",
      "--------- DuplicateSectionError\n",
      "--------- DuplicateOptionError\n",
      "--------- NoOptionError\n",
      "--------- InterpolationError\n",
      "------------ InterpolationMissingOptionError\n",
      "------------ InterpolationSyntaxError\n",
      "------------ InterpolationDepthError\n",
      "--------- ParsingError\n",
      "------------ MissingSectionHeaderError\n",
      "------ NoIPAddresses\n",
      "------ BadZipFile\n",
      "------ LargeZipFile\n",
      "------ BadEntryPoint\n",
      "------ NoSuchEntryPoint\n",
      "------ DuplicateKernelError\n",
      "------ ErrorDuringImport\n",
      "------ NotOneValueFound\n",
      "------ CannotEval\n",
      "------ OptionError\n",
      "------ BdbQuit\n",
      "------ Restart\n",
      "------ ExceptionPexpect\n",
      "--------- EOF\n",
      "--------- TIMEOUT\n",
      "------ PtyProcessError\n",
      "------ FindCmdError\n",
      "------ HomeDirError\n",
      "------ ProfileDirError\n",
      "------ IPythonCoreError\n",
      "--------- TryNext\n",
      "--------- UsageError\n",
      "--------- StdinNotImplementedError\n",
      "------ InputRejected\n",
      "------ GetoptError\n",
      "------ ErrorToken\n",
      "------ PrefilterError\n",
      "------ AliasError\n",
      "--------- InvalidAliasError\n",
      "------ Error\n",
      "--------- InterfaceError\n",
      "--------- DatabaseError\n",
      "------------ InternalError\n",
      "------------ OperationalError\n",
      "------------ ProgrammingError\n",
      "------------ IntegrityError\n",
      "------------ DataError\n",
      "------------ NotSupportedError\n",
      "------ Warning\n",
      "------ SpaceInInput\n",
      "------ DOMException\n",
      "--------- IndexSizeErr\n",
      "--------- DomstringSizeErr\n",
      "--------- HierarchyRequestErr\n",
      "--------- WrongDocumentErr\n",
      "--------- InvalidCharacterErr\n",
      "--------- NoDataAllowedErr\n",
      "--------- NoModificationAllowedErr\n",
      "--------- NotFoundErr\n",
      "--------- NotSupportedErr\n",
      "--------- InuseAttributeErr\n",
      "--------- InvalidStateErr\n",
      "--------- SyntaxErr\n",
      "--------- InvalidModificationErr\n",
      "--------- NamespaceErr\n",
      "--------- InvalidAccessErr\n",
      "--------- ValidationErr\n",
      "------ ValidationError\n",
      "------ EditReadOnlyBuffer\n",
      "------ _Retry\n",
      "------ InvalidLayoutError\n",
      "------ HeightIsUnknownError\n",
      "------ ParserSyntaxError\n",
      "------ InternalParseError\n",
      "------ _PositionUpdatingFinished\n",
      "------ SimpleGetItemNotFound\n",
      "------ UncaughtAttributeError\n",
      "------ HasNoContext\n",
      "------ ParamIssue\n",
      "------ _JediError\n",
      "--------- InternalError\n",
      "--------- WrongVersion\n",
      "--------- RefactoringError\n",
      "------ OnErrorLeaf\n",
      "------ InvalidPythonEnvironment\n",
      "------ MessageError\n",
      "--------- MessageParseError\n",
      "------------ HeaderParseError\n",
      "------------ BoundaryError\n",
      "--------- MultipartConversionError\n",
      "--------- CharsetError\n",
      "------ Error\n",
      "------ HTTPException\n",
      "--------- NotConnected\n",
      "--------- InvalidURL\n",
      "--------- UnknownProtocol\n",
      "--------- UnknownTransferEncoding\n",
      "--------- UnimplementedFileMode\n",
      "--------- IncompleteRead\n",
      "--------- ImproperConnectionState\n",
      "------------ CannotSendRequest\n",
      "------------ CannotSendHeader\n",
      "------------ ResponseNotReady\n",
      "--------- BadStatusLine\n",
      "------------ RemoteDisconnected\n",
      "--------- LineTooLong\n",
      "------ InteractivelyDefined\n",
      "------ KillEmbedded\n",
      "------ Error\n",
      "--------- NoSuchProcess\n",
      "------------ ZombieProcess\n",
      "--------- AccessDenied\n",
      "--------- TimeoutExpired\n",
      "------ _Ipv6UnsupportedError\n",
      "------ QueueEmpty\n",
      "------ QueueFull\n",
      "------ DebuggerInitializationError\n",
      "------ ExpatError\n",
      "------ Error\n",
      "--------- ProtocolError\n",
      "--------- ResponseError\n",
      "--------- Fault\n",
      "------ ParseBaseException\n",
      "--------- ParseException\n",
      "--------- ParseFatalException\n",
      "------------ ParseSyntaxException\n",
      "------ RecursiveGrammarException\n",
      "------ ResolutionError\n",
      "--------- VersionConflict\n",
      "------------ ContextualVersionConflict\n",
      "--------- DistributionNotFound\n",
      "--------- UnknownExtra\n",
      "------ _Error\n",
      "------ UnableToResolveVariableException\n",
      "------ InvalidTypeInArgsException\n",
      "--- GeneratorExit\n",
      "--- SystemExit\n",
      "--- KeyboardInterrupt\n",
      "--- CancelledError\n",
      "--- AbortThread\n"
     ]
    }
   ],
   "source": [
    "#  Q2. Write a python program to print Python Exception Hierarchy.\n",
    "# Ans. \n",
    "\n",
    "import inspect as ipt  \n",
    "     \n",
    "def tree_class(cls, ind = 0):  \n",
    "        \n",
    "    print ('-' * ind, cls.__name__)  \n",
    "          \n",
    "    for K in cls.__subclasses__():  \n",
    "        tree_class(K, ind + 3)  \n",
    "    \n",
    "print (\"The Hierarchy for inbuilt exceptions is: \")  \n",
    "       \n",
    "ipt.getclasstree(ipt.getmro(BaseException))  \n",
    "      \n",
    "tree_class(BaseException)  \n"
   ]
  },
  {
   "cell_type": "code",
   "execution_count": 11,
   "id": "2d0f0a1a-1ceb-4422-a326-275dca8059a8",
   "metadata": {},
   "outputs": [
    {
     "name": "stdout",
     "output_type": "stream",
     "text": [
      "This is an example of catching ArithmeticError division by zero {<class 'ZeroDivisionError'>}\n"
     ]
    }
   ],
   "source": [
    "# Q3. What errors are defined in the ArithmeticError class? Explain any two with an example.\n",
    "# Ans. The arithmetic error occurs when an error is encountered during numeric calculations in Python. \n",
    "#      This includes Zerodivision Error and Floating point error.\n",
    "\n",
    "# 1.\n",
    "try:\n",
    "    7/0\n",
    "except ArithmeticError as e:\n",
    "    print('This is an example of catching ArithmeticError',e,{e.__class__})"
   ]
  },
  {
   "cell_type": "code",
   "execution_count": 3,
   "id": "785e56f7-33c6-44c9-a2fd-3f5fc61854d2",
   "metadata": {},
   "outputs": [
    {
     "name": "stdout",
     "output_type": "stream",
     "text": [
      "(34, 'Numerical result out of range') {<class 'OverflowError'>}\n"
     ]
    }
   ],
   "source": [
    "# 2.\n",
    "\n",
    "j = 5.0\n",
    "\n",
    "try:\n",
    "    for i in range(1, 1000):\n",
    "        j = j**i\n",
    "except ArithmeticError as e:\n",
    "    print(e, {e.__class__})"
   ]
  },
  {
   "cell_type": "code",
   "execution_count": null,
   "id": "6421d988-3150-4770-8971-9fffb50f0e79",
   "metadata": {},
   "outputs": [],
   "source": [
    "# Q4. Why LookupError class is used? Explain with an example KeyError and IndexError.\n",
    "# Ans.\n",
    "''' Lookup Error acts as a base class for the exceptions that occur\n",
    "when a key or index used on a mapping or sequence of a list/dictionary is invalid or does not exists '''"
   ]
  },
  {
   "cell_type": "code",
   "execution_count": 4,
   "id": "c9763696-1987-4551-ae15-1a7b0a554a01",
   "metadata": {},
   "outputs": [
    {
     "name": "stdout",
     "output_type": "stream",
     "text": [
      "list index out of range, <class 'IndexError'>\n"
     ]
    }
   ],
   "source": [
    "x = [1, 2, 3, 4]\n",
    "try:\n",
    "    print(x[10])\n",
    "except LookupError as e:\n",
    "    print(f\"{e}, {e.__class__}\")\n"
   ]
  },
  {
   "cell_type": "code",
   "execution_count": 11,
   "id": "a704743a-46c2-4f0c-b4d8-69994ed862b9",
   "metadata": {},
   "outputs": [
    {
     "name": "stdout",
     "output_type": "stream",
     "text": [
      "Key Error Exception Raised. {<class 'KeyError'>}\n"
     ]
    }
   ],
   "source": [
    "try:  \n",
    "    a = {1:'a', 2:'b', 3:'c'}  \n",
    "    print (a[4])  \n",
    "except LookupError as e:  \n",
    "    print (\"Key Error Exception Raised.\" ,{e.__class__})\n",
    "else:  \n",
    "    print (\"Success, no error!\")\n"
   ]
  },
  {
   "cell_type": "code",
   "execution_count": 25,
   "id": "7badbe08-823a-46ab-a1af-22bec3d67bf5",
   "metadata": {},
   "outputs": [
    {
     "name": "stdout",
     "output_type": "stream",
     "text": [
      "cannot import name 'datetime' from 'time' (unknown location) {<class 'ImportError'>}\n"
     ]
    }
   ],
   "source": [
    "# Q5. Explain ImportError. What is ModuleNotFoundError?\n",
    "# Ans. The ImportError is raised when an import statement has trouble successfully importing the specified module. \n",
    "#      Typically, such a problem is due to an invalid or incorrect path, which will raise a ModuleNotFoundError.\n",
    "\n",
    "# The 'module not found' error is a syntax error that appears when the static import statement cannot find the file at the declared path. \n",
    "# This common syntax error is caused by letter-casing inconsistencies that are present in your\n",
    "# filename(s) between your repository and local machine, or both. \n",
    "    \n",
    "import sys\n",
    "try:\n",
    "    from time import datetime\n",
    "except Exception as e:\n",
    "    print(e,{e.__class__} )    "
   ]
  },
  {
   "cell_type": "code",
   "execution_count": 28,
   "id": "e322ee40-44b0-48f4-9ab4-1aedb4c881aa",
   "metadata": {},
   "outputs": [
    {
     "name": "stdin",
     "output_type": "stream",
     "text": [
      "Please enter a number:  ghv\n"
     ]
    },
    {
     "name": "stdout",
     "output_type": "stream",
     "text": [
      "Error: there was an error\n",
      "Cleanup can go here\n"
     ]
    }
   ],
   "source": [
    "# Q6. List down some best practices for exception handling in python.\n",
    "# Ans.\n",
    "\n",
    "try:\n",
    "    x = int(input(\"Please enter a number: \"))\n",
    "    y = 100 / x\n",
    "except ValueError:\n",
    "    print(\"Error: there was an error\")\n",
    "except ZeroDivisionError:\n",
    "    print(\"Error: 0 is an invalid number\")\n",
    "except Exception:\n",
    "    print(\"Error: another error occurred\")\n",
    "finally:\n",
    "    print(\"Cleanup can go here\")"
   ]
  },
  {
   "cell_type": "code",
   "execution_count": 31,
   "id": "03e91aa7-12ee-497a-8348-e79349ad4bc4",
   "metadata": {},
   "outputs": [
    {
     "name": "stdout",
     "output_type": "stream",
     "text": [
      "invalid literal for int() with base 10: 'ash' {<class 'ValueError'>}\n"
     ]
    }
   ],
   "source": [
    "try :\n",
    "    int(\"ash\")\n",
    "except (ValueError , TypeError) as e :\n",
    "    print(e, {e.__class__})"
   ]
  },
  {
   "cell_type": "code",
   "execution_count": 30,
   "id": "06abcb2c-3fa6-41d4-a581-5b7543de4c8c",
   "metadata": {},
   "outputs": [
    {
     "name": "stdout",
     "output_type": "stream",
     "text": [
      "'str' object has no attribute 'test' {<class 'AttributeError'>}\n"
     ]
    }
   ],
   "source": [
    "try :\n",
    "    \"ash\".test()\n",
    "except AttributeError as e :\n",
    "    print(e,{e.__class__})"
   ]
  },
  {
   "cell_type": "code",
   "execution_count": 32,
   "id": "d3f05dca-dd01-4161-b228-610bbb67d38b",
   "metadata": {},
   "outputs": [
    {
     "name": "stdout",
     "output_type": "stream",
     "text": [
      "[Errno 2] No such file or directory: 'text0.txt' {<class 'FileNotFoundError'>}\n"
     ]
    }
   ],
   "source": [
    "try :\n",
    "    with open(\"text0.txt\",'r') as f:\n",
    "        test = f.read()\n",
    "except FileNotFoundError as e :\n",
    "    print(e,{e.__class__})"
   ]
  },
  {
   "cell_type": "code",
   "execution_count": 35,
   "id": "77b2fba4-7c24-4b8a-9913-c7a3fce1e31b",
   "metadata": {},
   "outputs": [],
   "source": [
    "import logging\n",
    "logging.basicConfig(filename= \"error.log\", level = logging.ERROR)\n",
    "try :\n",
    "    10/0\n",
    "except Exception as e :\n",
    "    logging.error(\"i am trying to handle a zerodivision error {}\" .format(e))"
   ]
  },
  {
   "cell_type": "code",
   "execution_count": 36,
   "id": "f21d68c8-3620-4a0c-860b-7154c60a1f77",
   "metadata": {},
   "outputs": [
    {
     "name": "stdout",
     "output_type": "stream",
     "text": [
      "division by zero {<class 'ZeroDivisionError'>}\n"
     ]
    }
   ],
   "source": [
    "try :\n",
    "    10/0\n",
    "except Exception as e :\n",
    "    print(e,{e.__class__})"
   ]
  },
  {
   "cell_type": "code",
   "execution_count": null,
   "id": "9983c08d-dbc3-46f6-88e8-458b208a2760",
   "metadata": {},
   "outputs": [],
   "source": []
  }
 ],
 "metadata": {
  "kernelspec": {
   "display_name": "Python 3 (ipykernel)",
   "language": "python",
   "name": "python3"
  },
  "language_info": {
   "codemirror_mode": {
    "name": "ipython",
    "version": 3
   },
   "file_extension": ".py",
   "mimetype": "text/x-python",
   "name": "python",
   "nbconvert_exporter": "python",
   "pygments_lexer": "ipython3",
   "version": "3.10.8"
  }
 },
 "nbformat": 4,
 "nbformat_minor": 5
}
