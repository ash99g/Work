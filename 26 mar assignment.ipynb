{
 "cells": [
  {
   "cell_type": "code",
   "execution_count": null,
   "id": "27fb949a-dc23-4dff-964d-3df1a7e3cc12",
   "metadata": {},
   "outputs": [],
   "source": [
    "# Q1. Explain the difference between simple linear regression and multiple linear regression. Provide an example of each.\n",
    "# Ans.Simple Linear Regression is a linear regression model that estimates the relationship between one independent variable\n",
    "#     and one dependent variable using a straight line.\n",
    "#     Example : Salary = a0 + a1*Experience ( y = a0 + a1x form ).\n",
    "\n",
    "#    Multiple Linear Regression is a linear regression model that estimates the relationship between several independent variables (features)\n",
    "#    and one dependent variable.\n",
    "#    Example : Car Price = a0 + a1*Mileage + a2*Brand + a3*Age ( y = a0 + a1x1 + a2x2 + ... + anxn form )"
   ]
  },
  {
   "cell_type": "code",
   "execution_count": null,
   "id": "759ef354-aee5-4d70-8f7a-c0445743b133",
   "metadata": {},
   "outputs": [],
   "source": [
    "# Q2. Discuss the assumptions of linear regression. How can you check whether these assumptions hold in a given dataset?\n",
    "# Ans.Linear regression is an analysis that assesses whether one or more predictor variables explain the dependent (criterion) variable.  \n",
    "#     The regression has five key assumptions:\n",
    "#     1.Linear relationship\n",
    "#     2.Multivariate normality\n",
    "#     3.No or little multicollinearity\n",
    "#     4.No auto-correlation\n",
    "#     5.Homoscedasticity\n",
    "\n",
    "#    There are primarily five assumptions of linear regression. They are:\n",
    "\n",
    "#    1.There is a linear relationship between the predictors (x) and the outcome (y)\n",
    "#    2.Predictors (x) are independent and observed with negligible error\n",
    "#    3.Residual Errors have a mean value of zero\n",
    "#    4.Residual Errors have constant variance\n",
    "#    5.Residual Errors are independent from each other and predictors (x)"
   ]
  },
  {
   "cell_type": "code",
   "execution_count": null,
   "id": "92e14947-4c00-42c6-826a-7f693b87c63b",
   "metadata": {},
   "outputs": [],
   "source": [
    "# Q3. How do you interpret the slope and intercept in a linear regression model? Provide an example using a real-world scenario.\n",
    "# Ans.The easiest way to understand and interpret slope and intercept in linear models is to first understand the slope-intercept formula: y = mx + b. \n",
    "#     M is the slope or the consistent change between x and y, and b is the y-intercept. Often, the y-intercept represents the starting point of the equation."
   ]
  },
  {
   "cell_type": "code",
   "execution_count": null,
   "id": "0d6c01c9-eb56-4bd3-96a7-f4091032b2ad",
   "metadata": {},
   "outputs": [],
   "source": [
    "# Q4. Explain the concept of gradient descent. How is it used in machine learning?\n",
    "# Ans.Gradient descent is an optimization algorithm which is commonly-used to train machine learning models and neural networks. \n",
    "#     Training data helps these models learn over time, and the cost function within gradient descent specifically acts as a barometer,\n",
    "#     gauging its accuracy with each iteration of parameter updates."
   ]
  },
  {
   "cell_type": "code",
   "execution_count": null,
   "id": "5f2c258f-1705-4027-9a8e-5a021569576f",
   "metadata": {},
   "outputs": [],
   "source": [
    "# Q5. Describe the multiple linear regression model. How does it differ from simple linear regression?\n",
    "# Ans.Multiple linear regression is a regression model that estimates the relationship between a quantitative dependent variable and two or \n",
    "#     more independent variables using a straight line.\n",
    "#     Whereas linear regress only has one independent variable impacting the slope of the relationship, multiple regression incorporates\n",
    "#     multiple independent variables. Each independent variable in multiple regression has its own coefficient to ensure each variable\n",
    "#     is weighted appropriately."
   ]
  },
  {
   "cell_type": "code",
   "execution_count": null,
   "id": "7de4ddac-0f1d-4ba4-8685-9d6e553bb040",
   "metadata": {},
   "outputs": [],
   "source": [
    "# Q6. Explain the concept of multicollinearity in multiple linear regression. How can you detect and address this issue?\n",
    "# Ans.Multicollinearity occurs when two or more independent variables in a data frame have a high correlation with one another in a\n",
    "#     regression model. This means that one independent variable can be predicted from another in a regression model."
   ]
  },
  {
   "cell_type": "code",
   "execution_count": null,
   "id": "284536be-bb1e-4d37-a5bc-7975aa19a561",
   "metadata": {},
   "outputs": [],
   "source": [
    "# Q7. Describe the polynomial regression model. How is it different from linear regression?\n",
    "# Ans.A polynomial regression model is a machine learning model that can capture non-linear relationships between variables by fitting\n",
    "#     a non-linear regression line, which may not be possible with simple linear regression. It is used when linear regression models may\n",
    "#     not adequately capture the complexity of the relationship.\n",
    "#     Polynomial regression is a form of Linear regression where only due to the Non-linear relationship between dependent and independent variables,\n",
    "#     we add some polynomial terms to linear regression to convert it into Polynomial regression."
   ]
  },
  {
   "cell_type": "code",
   "execution_count": null,
   "id": "fe909654-68ce-425f-a624-34406e8c76ac",
   "metadata": {},
   "outputs": [],
   "source": [
    "# Q8. What are the advantages and disadvantages of polynomial regression compared to linear regression? \n",
    "#     In what situations would you prefer to use polynomial regression?\n",
    "# Ans.Advantages of using Polynomial Regression:\n",
    "#     1.Polynomial provides the best approximation of the relationship between the dependent and independent variable.\n",
    "#     2.A Broad range of function can be fit under it.\n",
    "#     3.Polynomial basically fits a wide range of curvature.\n",
    "\n",
    "#    Disadvantages of using Polynomial Regression\n",
    "#    1.The presence of one or two outliers in the data can seriously affect the results of the nonlinear analysis.\n",
    "#    2.These are too sensitive to the outliers.\n",
    "#    3.In addition, there are unfortunately fewer model validation tools for the detection of outliers in nonlinear regression than there are for linear regression.\n",
    "\n",
    "#   Polynomial regression is used when there is no linear correlation between the variables. \n",
    "#   Hence, it explains why it looks more like a non-linear function."
   ]
  }
 ],
 "metadata": {
  "kernelspec": {
   "display_name": "Python 3 (ipykernel)",
   "language": "python",
   "name": "python3"
  },
  "language_info": {
   "codemirror_mode": {
    "name": "ipython",
    "version": 3
   },
   "file_extension": ".py",
   "mimetype": "text/x-python",
   "name": "python",
   "nbconvert_exporter": "python",
   "pygments_lexer": "ipython3",
   "version": "3.10.8"
  }
 },
 "nbformat": 4,
 "nbformat_minor": 5
}
