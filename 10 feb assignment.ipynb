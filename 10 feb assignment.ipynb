{
 "cells": [
  {
   "cell_type": "code",
   "execution_count": null,
   "id": "2ecd0a07-14ee-4fc9-b831-405e9e8f58b1",
   "metadata": {},
   "outputs": [],
   "source": [
    "# Q1. Which function is used to open a file? What are the different modes of opening a file? Explain each mode of file opening.\n",
    "# Ans.1.we use the open() method to open files.\n",
    "\n",
    "#     2. r - open a file in read mode.\n",
    "#        w - opens or create a text file in write mode.\n",
    "#        a - opens a file in append mode.\n",
    "#        r+ - opens a file in both read and write mode.\n",
    "#        a+ - opens a file in both read and write mode.\n",
    "#        w+ - opens a file in both read and write mode.\n"
   ]
  },
  {
   "cell_type": "code",
   "execution_count": null,
   "id": "0eab1fdb-6b72-466b-bbb9-0452955ad83f",
   "metadata": {},
   "outputs": [],
   "source": [
    "# Q2. Why close() function is used? Why is it important to close a file?\n",
    "# Ans. The close() method closes an open file. You should always close your files, in some cases, due to buffering, \n",
    "#      changes made to a file may not show until you close the file.\n",
    "\n",
    "#     Because files are limited resources managed by the operating system, making sure files are closed after use will \n",
    "#     protect against hard-to-debug issues like running out of file handles or experiencing corrupted data."
   ]
  },
  {
   "cell_type": "code",
   "execution_count": 6,
   "id": "729fe605-a4ba-4c58-811b-cc4c737ba57f",
   "metadata": {},
   "outputs": [],
   "source": [
    "# Q3. Write a python program to create a text file. Write ‘I want to become a Data Scientist’ in that file. Then\n",
    "#     close the file. Open this file and read the content of the file.\n",
    "# Ans.\n",
    "\n",
    "f= open(\"text.txt\" , \"w\")"
   ]
  },
  {
   "cell_type": "code",
   "execution_count": 7,
   "id": "ec90ef60-3e5e-4065-a26a-3faf9e217ca9",
   "metadata": {},
   "outputs": [
    {
     "data": {
      "text/plain": [
       "33"
      ]
     },
     "execution_count": 7,
     "metadata": {},
     "output_type": "execute_result"
    }
   ],
   "source": [
    "f.write(\"I want to become a Data Scientist\")"
   ]
  },
  {
   "cell_type": "code",
   "execution_count": 8,
   "id": "4e70c203-2537-4c06-9764-4d5b74c488b4",
   "metadata": {},
   "outputs": [],
   "source": [
    "f.close()"
   ]
  },
  {
   "cell_type": "code",
   "execution_count": 9,
   "id": "f92e092f-eaab-4a68-a043-5ae6243157c3",
   "metadata": {},
   "outputs": [],
   "source": [
    "f= open(\"text.txt\" , \"r\")"
   ]
  },
  {
   "cell_type": "code",
   "execution_count": 10,
   "id": "25114ce0-56ea-4574-b6ce-8ec1637ae89d",
   "metadata": {},
   "outputs": [
    {
     "data": {
      "text/plain": [
       "'I want to become a Data Scientist'"
      ]
     },
     "execution_count": 10,
     "metadata": {},
     "output_type": "execute_result"
    }
   ],
   "source": [
    "f.read()"
   ]
  },
  {
   "cell_type": "code",
   "execution_count": 24,
   "id": "f0be44c9-6eef-4792-bcfc-cabff960a737",
   "metadata": {},
   "outputs": [],
   "source": [
    "# Q4. Explain the following with python code: read(), readline() and readlines().\n",
    "# Ans.\n",
    "\n",
    "f= open(\"text1.txt\" , \"w\")\n",
    "f.write(\"\"\" Data Science Masters course is highly curated and uniquely designed according to the latest industry standards. This program instills students the skills essential to knowledge discovery efforts to identify. \"\"\")\n",
    "f.close()"
   ]
  },
  {
   "cell_type": "code",
   "execution_count": 26,
   "id": "69c86e2a-83f5-40c8-b808-393f4e56cb80",
   "metadata": {},
   "outputs": [],
   "source": [
    "f= open(\"text1.txt\" , \"r\")"
   ]
  },
  {
   "cell_type": "code",
   "execution_count": 27,
   "id": "91a6b562-c6a2-4542-b4e4-fa60a5af3cb2",
   "metadata": {},
   "outputs": [
    {
     "data": {
      "text/plain": [
       "' Data Science Masters course is highly curated and uniquely designed according to the latest industry standards. This program instills students the skills essential to knowledge discovery efforts to identify. '"
      ]
     },
     "execution_count": 27,
     "metadata": {},
     "output_type": "execute_result"
    }
   ],
   "source": [
    "f.read()"
   ]
  },
  {
   "cell_type": "code",
   "execution_count": 28,
   "id": "62ef0dfc-0465-425e-b74c-bef41b26fd63",
   "metadata": {},
   "outputs": [
    {
     "data": {
      "text/plain": [
       "''"
      ]
     },
     "execution_count": 28,
     "metadata": {},
     "output_type": "execute_result"
    }
   ],
   "source": [
    "f.readline()"
   ]
  },
  {
   "cell_type": "code",
   "execution_count": 29,
   "id": "37837edf-ad9f-4571-a9e8-3560ade1e3ee",
   "metadata": {},
   "outputs": [
    {
     "data": {
      "text/plain": [
       "20"
      ]
     },
     "execution_count": 29,
     "metadata": {},
     "output_type": "execute_result"
    }
   ],
   "source": [
    "f.seek(20)"
   ]
  },
  {
   "cell_type": "code",
   "execution_count": 30,
   "id": "e80e4006-4cb3-415e-b4c1-e236523f44c2",
   "metadata": {},
   "outputs": [
    {
     "data": {
      "text/plain": [
       "'s course is highly curated and uniquely designed according to the latest industry standards. This program instills students the skills essential to knowledge discovery efforts to identify. '"
      ]
     },
     "execution_count": 30,
     "metadata": {},
     "output_type": "execute_result"
    }
   ],
   "source": [
    "f.readline()"
   ]
  },
  {
   "cell_type": "code",
   "execution_count": 33,
   "id": "d37f0a93-fbd6-4fc6-99e1-32224bded1d8",
   "metadata": {},
   "outputs": [
    {
     "data": {
      "text/plain": [
       "[]"
      ]
     },
     "execution_count": 33,
     "metadata": {},
     "output_type": "execute_result"
    }
   ],
   "source": [
    "f.readlines()"
   ]
  },
  {
   "cell_type": "code",
   "execution_count": 34,
   "id": "e7eff0b6-7654-4fe0-8b86-2fa64a3c3e3a",
   "metadata": {},
   "outputs": [
    {
     "data": {
      "text/plain": [
       "29"
      ]
     },
     "execution_count": 34,
     "metadata": {},
     "output_type": "execute_result"
    }
   ],
   "source": [
    "f.seek(29)"
   ]
  },
  {
   "cell_type": "code",
   "execution_count": 35,
   "id": "33b634a8-56c7-4d89-9b51-6c0b791f7b95",
   "metadata": {},
   "outputs": [
    {
     "data": {
      "text/plain": [
       "['is highly curated and uniquely designed according to the latest industry standards. This program instills students the skills essential to knowledge discovery efforts to identify. ']"
      ]
     },
     "execution_count": 35,
     "metadata": {},
     "output_type": "execute_result"
    }
   ],
   "source": [
    "f.readlines()"
   ]
  },
  {
   "cell_type": "code",
   "execution_count": null,
   "id": "c1f55682-4ce6-43a8-bdbe-b3fb45637b71",
   "metadata": {},
   "outputs": [],
   "source": [
    "# Q5. Explain why with statement is used with open(). What is the advantage of using with statement and open() together?\n",
    "# Ans.1.The with statement works with the open() function to open a file. Unlike open() where you have to close the file with the close() method, \n",
    "#     the with statement closes the file for you without you telling it to. \n",
    "#     This is because the with statement calls 2 built-in methods behind the scene – __enter()__ and __exit()__ .\n",
    "\n",
    "#     Advantage\n",
    "#     2.When you use with statement with open function, you do not need to close the file at the end, \n",
    "#     because with would automatically close it for you.\n"
   ]
  },
  {
   "cell_type": "code",
   "execution_count": 36,
   "id": "59a69f6c-e80c-4c45-8197-9e748c202b40",
   "metadata": {},
   "outputs": [],
   "source": [
    "data = {\n",
    "    \"name\" : \"ashish\" ,\n",
    "    \"mail_id\" : \"ash@gmail.com\" ,\n",
    "    \"mob number\" : 589765565 ,\n",
    "    \"subject\" : [\"maths\",\"physics\",\"chemistry\"]\n",
    "}"
   ]
  },
  {
   "cell_type": "code",
   "execution_count": 38,
   "id": "4bea42b1-36c7-428c-8800-7c178bb19faa",
   "metadata": {},
   "outputs": [],
   "source": [
    "import json"
   ]
  },
  {
   "cell_type": "code",
   "execution_count": 39,
   "id": "8763c8fe-8210-44e2-8031-6d676c1dd377",
   "metadata": {},
   "outputs": [],
   "source": [
    "with open(\"data.json\",\"w\")as f :\n",
    "    json.dump(data, f)"
   ]
  },
  {
   "cell_type": "code",
   "execution_count": 40,
   "id": "313f0d83-6a5f-45c7-8f59-934e1eab26e6",
   "metadata": {},
   "outputs": [],
   "source": [
    "with open(\"data.json\",\"r\")as f :\n",
    "    data1 = json.load( f)"
   ]
  },
  {
   "cell_type": "code",
   "execution_count": 41,
   "id": "12e9632c-0ced-4112-b452-537c0e074568",
   "metadata": {},
   "outputs": [
    {
     "data": {
      "text/plain": [
       "{'name': 'ashish',\n",
       " 'mail_id': 'ash@gmail.com',\n",
       " 'mob number': 589765565,\n",
       " 'subject': ['maths', 'physics', 'chemistry']}"
      ]
     },
     "execution_count": 41,
     "metadata": {},
     "output_type": "execute_result"
    }
   ],
   "source": [
    "data1"
   ]
  },
  {
   "cell_type": "code",
   "execution_count": null,
   "id": "5bc1f3a0-80b5-4b27-bd25-60cf1b49d88b",
   "metadata": {},
   "outputs": [],
   "source": [
    "# Q6. Explain the write() and writelines() functions. Give a suitable example.\n",
    "# Ans.The only difference between the write() and writelines() is that write() is used to \n",
    "#     write a string to an already opened file while writelines() method is used to write \n",
    "#     a list of strings in an opened file.\n"
   ]
  },
  {
   "cell_type": "code",
   "execution_count": 68,
   "id": "01b330a3-d8a0-4e20-88fb-9754a71e1604",
   "metadata": {},
   "outputs": [],
   "source": [
    "a= open(\"text2.txt\" , \"w\")\n",
    "a.write(\"\"\" Data Science Masters course is highly curated and uniquely designed according to the latest industry standards. This program instills students the skills essential to knowledge discovery efforts to identify.\\n \"\"\")\n",
    "a.close()"
   ]
  },
  {
   "cell_type": "code",
   "execution_count": 69,
   "id": "cfba2b0c-fc4b-450c-a0af-7004e87eee48",
   "metadata": {},
   "outputs": [
    {
     "data": {
      "text/plain": [
       "' Data Science Masters course is highly curated and uniquely designed according to the latest industry standards. This program instills students the skills essential to knowledge discovery efforts to identify.\\n '"
      ]
     },
     "execution_count": 69,
     "metadata": {},
     "output_type": "execute_result"
    }
   ],
   "source": [
    "a= open(\"text2.txt\" , \"r\")\n",
    "a.read()"
   ]
  },
  {
   "cell_type": "code",
   "execution_count": 70,
   "id": "b85fd29c-6e9e-45c0-9cac-bb8814299f2c",
   "metadata": {},
   "outputs": [],
   "source": [
    "a= open(\"text2.txt\" , \"a\")\n",
    "a.writelines([\"The only difference between the write() and writelines() is that write() is used to write a string to an already opened file \\n \",\" while writelines() method is used to write a list of strings in an opened file\"])\n",
    "a.close()"
   ]
  },
  {
   "cell_type": "code",
   "execution_count": 71,
   "id": "de8417d2-8214-4b41-9159-243dab995e4f",
   "metadata": {},
   "outputs": [
    {
     "data": {
      "text/plain": [
       "' Data Science Masters course is highly curated and uniquely designed according to the latest industry standards. This program instills students the skills essential to knowledge discovery efforts to identify.\\n The only difference between the write() and writelines() is that write() is used to write a string to an already opened file \\n  while writelines() method is used to write a list of strings in an opened file'"
      ]
     },
     "execution_count": 71,
     "metadata": {},
     "output_type": "execute_result"
    }
   ],
   "source": [
    "a= open(\"text2.txt\" , \"r\")\n",
    "a.read()"
   ]
  },
  {
   "cell_type": "code",
   "execution_count": null,
   "id": "ea250145-e1ed-4747-b0ba-3f71fdeaf9df",
   "metadata": {},
   "outputs": [],
   "source": []
  }
 ],
 "metadata": {
  "kernelspec": {
   "display_name": "Python 3 (ipykernel)",
   "language": "python",
   "name": "python3"
  },
  "language_info": {
   "codemirror_mode": {
    "name": "ipython",
    "version": 3
   },
   "file_extension": ".py",
   "mimetype": "text/x-python",
   "name": "python",
   "nbconvert_exporter": "python",
   "pygments_lexer": "ipython3",
   "version": "3.10.8"
  }
 },
 "nbformat": 4,
 "nbformat_minor": 5
}
