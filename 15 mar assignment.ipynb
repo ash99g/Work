{
 "cells": [
  {
   "cell_type": "code",
   "execution_count": null,
   "id": "2c9e767c-929f-4d0c-8c6c-f3d89a481fda",
   "metadata": {},
   "outputs": [],
   "source": [
    "# Q1: Explain the following with an example:\n",
    "#      1) Artificial intelligence\n",
    "#      2) Machine learning\n",
    "#      3) Deep learning\n",
    "\n",
    "# Ans.1.Artificial intelligence is the simulation of human intelligence processes by machines, especially computer systems. Specific applications of AI include expert systems, natural language processing, speech recognition and machine vision.\n",
    "#       Ex-Facial Detection and Recognition.\n",
    "#     2.Machine learning is a branch of artificial intelligence (AI) and computer science which focuses on the use of data and algorithms to imitate the way that humans learn, gradually improving its accuracy.\n",
    "#       Ex- Google Translation.\n",
    "#     3.Deep learning is a subset of machine learning, which is essentially a neural network with three or more layers. These neural networks attempt to simulate the behavior of the human brain—albeit far from matching its ability—allowing it to “learn” from large amounts of data.\n",
    "#      Ex- Virtual assistants"
   ]
  },
  {
   "cell_type": "code",
   "execution_count": null,
   "id": "af7c5349-1eb4-4fdb-82a0-273b5036a0bd",
   "metadata": {},
   "outputs": [],
   "source": [
    "# Q2: What is supervised learning? List some examples of supervised learning.\n",
    "# Ans.Supervised learning, also known as supervised machine learning, is a subcategory of machine learning and artificial intelligence. It is defined by its use of labeled datasets to train algorithms that to classify data or predict outcomes accurately.\n",
    "#     Ex- predicting house prices."
   ]
  },
  {
   "cell_type": "code",
   "execution_count": null,
   "id": "80b4b75d-b621-4108-947f-57ef6a9cab98",
   "metadata": {},
   "outputs": [],
   "source": [
    "# Q3: What is unsupervised learning? List some examples of unsupervised learning.\n",
    "# Ans. Unsupervised learning, also known as unsupervised machine learning, uses machine learning algorithms to analyze and cluster unlabeled datasets. These algorithms discover hidden patterns or data groupings without the need for human intervention.\n",
    "#      Ex- Organize computing clusters\n",
    "#          Market segmentation\n",
    "#          Social network analysis"
   ]
  },
  {
   "cell_type": "code",
   "execution_count": null,
   "id": "06c3e678-4e48-4dd6-b8f6-657b2daf8193",
   "metadata": {},
   "outputs": [],
   "source": [
    "# Q4: What is the difference between AI,ML,DL and DS?\n",
    "# Ans. AI is the broadest concept of all, and gives a machine the ability to imitate human behaviour. \n",
    "#      ML is the application of AI into a system or machine, which helps it to self-learn and improve continually.\n",
    "#      DL uses complex algorithms and deep neural networks to repetitively train a specific model or pattern.  \n",
    "#      DS is a discipline that uses various technologies and methods to analyze data. It combines computational science, statistics, mathematics, and company or business knowledge."
   ]
  },
  {
   "cell_type": "code",
   "execution_count": null,
   "id": "0d63111f-50d1-4520-903e-81ebc558bb55",
   "metadata": {},
   "outputs": [],
   "source": [
    "# Q5: What are the main difference between supervised,unsupervised and semi-supervised learning?\n",
    "# Ans.1.In a supervised learning model, the algorithm learns on a labeled dataset, providing an answer key that the algorithm can use to evaluate its accuracy on training data.\n",
    "#     2.An unsupervised model, in contrast, provides unlabeled data that the algorithm tries to make sense of by extracting features and patterns on its own.\n",
    "#     3.Semi-supervised learning takes a middle ground. It uses a small amount of labeled data bolstering a larger set of unlabeled data. "
   ]
  },
  {
   "cell_type": "code",
   "execution_count": null,
   "id": "9df77a6e-abd0-47d5-bfbb-8efd4f023df2",
   "metadata": {},
   "outputs": [],
   "source": [
    "# Q6: What is train,test and validation split? Explain the importance of each term.\n",
    "# Ans.1.Training data is the set of the data on which the actual training takes place. \n",
    "#       Training data is the main and most important data which helps machines to learn and make the predictions. \n",
    "#       This data set is used by machine learning engineer to develop your algorithm and more than 70% of your total data used in the project.\n",
    "\n",
    "#     2.Validation split helps to improve the model performance by fine-tuning the model after each epoch.\n",
    "#       This is the second type of data set used to validate the machine learning model before final delivery of project.\n",
    "#       ML model validation is important to ensure the accuracy of model prediction to develop a right application.\n",
    "\n",
    "#     3.The test set informs us about the final accuracy of the model after completing the training phase.\n",
    "#       This is the final and last type of data helps to check the prediction level of machine learning and AI model. Its is similar to validation data in testing the model accuracy but don’t help to improve the prediction level. \n",
    "#       It is basically used to test the model whether it will work well in real-life use and final test in the moment of truth for the model, if it works perfectly."
   ]
  },
  {
   "cell_type": "code",
   "execution_count": null,
   "id": "8ba3fcff-4317-4f62-a0b1-b28b9276eac3",
   "metadata": {},
   "outputs": [],
   "source": [
    "# Q7: How can unsupervised learning be used in anomaly detection?\n",
    "# Ans.Unsupervised is useful when the data is unlabeled and thus requires less work to process the data set before- hand. \n",
    "#     Anomaly detection techniques of unsupervised nature assume that normal data points occur considerably more frequently than anomalous data points."
   ]
  },
  {
   "cell_type": "code",
   "execution_count": null,
   "id": "b2fa2cb2-fef8-474f-83ce-04701f17b4bd",
   "metadata": {},
   "outputs": [],
   "source": [
    "# Q8: list down some commonly used supervised learning algorithms and unsupervised learning algorithms.\n",
    "# Ans.\n",
    "#   Supervised learning algorithms\n",
    "#     1.Support-vector machines.\n",
    "#     2.Linear regression.\n",
    "#     3.Logistic regression.\n",
    "#     4.Naive Bayes.\n",
    "#     5.Linear discriminant analysis.\n",
    "#     6.Decision trees.\n",
    "#     7.K-nearest neighbor algorithm.\n",
    "#     8.Neural networks (Multilayer perceptron)\n",
    "\n",
    "#   Unsupervised learning algorithms\n",
    "#     1.K-means Clustering.\n",
    "#     2.Hierarchical Clustering.\n",
    "#     3.Anomaly Detection.\n",
    "#     4.Principal Component Analysis.\n",
    "#     5.Apriori Algorithm."
   ]
  }
 ],
 "metadata": {
  "kernelspec": {
   "display_name": "Python 3 (ipykernel)",
   "language": "python",
   "name": "python3"
  },
  "language_info": {
   "codemirror_mode": {
    "name": "ipython",
    "version": 3
   },
   "file_extension": ".py",
   "mimetype": "text/x-python",
   "name": "python",
   "nbconvert_exporter": "python",
   "pygments_lexer": "ipython3",
   "version": "3.10.8"
  }
 },
 "nbformat": 4,
 "nbformat_minor": 5
}
